{
 "cells": [
  {
   "cell_type": "code",
   "id": "216d9e83",
   "metadata": {
    "ExecuteTime": {
     "end_time": "2024-11-21T14:55:37.424961Z",
     "start_time": "2024-11-21T14:55:37.317290Z"
    }
   },
   "source": [
    "import numpy as np"
   ],
   "outputs": [],
   "execution_count": 1
  },
  {
   "cell_type": "markdown",
   "id": "a7eadd07",
   "metadata": {},
   "source": [
    "If possible, update your sklearn version to 1.3.2 to reduce variance in the versions."
   ]
  },
  {
   "cell_type": "code",
   "execution_count": 4,
   "id": "7826208c",
   "metadata": {},
   "outputs": [],
   "source": [
    "#!pip3 install scikit-learn==1.3.2"
   ]
  },
  {
   "cell_type": "code",
   "id": "dd0a3fe3",
   "metadata": {
    "ExecuteTime": {
     "end_time": "2024-11-21T14:55:43.383843Z",
     "start_time": "2024-11-21T14:55:41.914734Z"
    }
   },
   "source": [
    "import sklearn\n",
    "print('The scikit-learn version is {}.'.format(sklearn.__version__))"
   ],
   "outputs": [
    {
     "name": "stdout",
     "output_type": "stream",
     "text": [
      "The scikit-learn version is 1.5.0.\n"
     ]
    }
   ],
   "execution_count": 2
  },
  {
   "cell_type": "markdown",
   "id": "64c1c5d2",
   "metadata": {},
   "source": [
    "## Regression - Polynomial features"
   ]
  },
  {
   "cell_type": "code",
   "execution_count": 6,
   "id": "3df6fc3b",
   "metadata": {},
   "outputs": [
    {
     "name": "stdout",
     "output_type": "stream",
     "text": [
      ".. _california_housing_dataset:\n",
      "\n",
      "California Housing dataset\n",
      "--------------------------\n",
      "\n",
      "**Data Set Characteristics:**\n",
      "\n",
      "    :Number of Instances: 20640\n",
      "\n",
      "    :Number of Attributes: 8 numeric, predictive attributes and the target\n",
      "\n",
      "    :Attribute Information:\n",
      "        - MedInc        median income in block group\n",
      "        - HouseAge      median house age in block group\n",
      "        - AveRooms      average number of rooms per household\n",
      "        - AveBedrms     average number of bedrooms per household\n",
      "        - Population    block group population\n",
      "        - AveOccup      average number of household members\n",
      "        - Latitude      block group latitude\n",
      "        - Longitude     block group longitude\n",
      "\n",
      "    :Missing Attribute Values: None\n",
      "\n",
      "This dataset was obtained from the StatLib repository.\n",
      "https://www.dcc.fc.up.pt/~ltorgo/Regression/cal_housing.html\n",
      "\n",
      "The target variable is the median house value for California districts,\n",
      "expressed in hundreds of thousands of dollars ($100,000).\n",
      "\n",
      "This dataset was derived from the 1990 U.S. census, using one row per census\n",
      "block group. A block group is the smallest geographical unit for which the U.S.\n",
      "Census Bureau publishes sample data (a block group typically has a population\n",
      "of 600 to 3,000 people).\n",
      "\n",
      "A household is a group of people residing within a home. Since the average\n",
      "number of rooms and bedrooms in this dataset are provided per household, these\n",
      "columns may take surprisingly large values for block groups with few households\n",
      "and many empty houses, such as vacation resorts.\n",
      "\n",
      "It can be downloaded/loaded using the\n",
      ":func:`sklearn.datasets.fetch_california_housing` function.\n",
      "\n",
      ".. topic:: References\n",
      "\n",
      "    - Pace, R. Kelley and Ronald Barry, Sparse Spatial Autoregressions,\n",
      "      Statistics and Probability Letters, 33 (1997) 291-297\n",
      "\n"
     ]
    }
   ],
   "source": [
    "from sklearn.datasets import fetch_california_housing\n",
    "california = fetch_california_housing()\n",
    "print(california.DESCR)"
   ]
  },
  {
   "cell_type": "markdown",
   "id": "ba9fa714",
   "metadata": {},
   "source": [
    "Creating the data matrix"
   ]
  },
  {
   "cell_type": "code",
   "execution_count": 24,
   "id": "c46c883e",
   "metadata": {},
   "outputs": [
    {
     "name": "stdout",
     "output_type": "stream",
     "text": [
      "20640 8\n"
     ]
    }
   ],
   "source": [
    "D = california.data\n",
    "y = california.target\n",
    "n,d = D.shape\n",
    "print(n,d)"
   ]
  },
  {
   "cell_type": "markdown",
   "id": "02092543",
   "metadata": {},
   "source": [
    "Creating a design matrix with polynomial features"
   ]
  },
  {
   "cell_type": "code",
   "execution_count": 25,
   "id": "50b5fa71",
   "metadata": {},
   "outputs": [
    {
     "data": {
      "text/plain": [
       "array(['1', 'MedInc', 'HouseAge', 'AveRooms', 'AveBedrms', 'Population',\n",
       "       'AveOccup', 'Latitude', 'Longitude', 'MedInc^2', 'MedInc HouseAge',\n",
       "       'MedInc AveRooms', 'MedInc AveBedrms', 'MedInc Population',\n",
       "       'MedInc AveOccup', 'MedInc Latitude', 'MedInc Longitude',\n",
       "       'HouseAge^2', 'HouseAge AveRooms', 'HouseAge AveBedrms',\n",
       "       'HouseAge Population', 'HouseAge AveOccup', 'HouseAge Latitude',\n",
       "       'HouseAge Longitude', 'AveRooms^2', 'AveRooms AveBedrms',\n",
       "       'AveRooms Population', 'AveRooms AveOccup', 'AveRooms Latitude',\n",
       "       'AveRooms Longitude', 'AveBedrms^2', 'AveBedrms Population',\n",
       "       'AveBedrms AveOccup', 'AveBedrms Latitude', 'AveBedrms Longitude',\n",
       "       'Population^2', 'Population AveOccup', 'Population Latitude',\n",
       "       'Population Longitude', 'AveOccup^2', 'AveOccup Latitude',\n",
       "       'AveOccup Longitude', 'Latitude^2', 'Latitude Longitude',\n",
       "       'Longitude^2'], dtype=object)"
      ]
     },
     "execution_count": 25,
     "metadata": {},
     "output_type": "execute_result"
    }
   ],
   "source": [
    "from sklearn.preprocessing import PolynomialFeatures\n",
    "aff = PolynomialFeatures(2,include_bias=True)\n",
    "X = aff.fit_transform(D)\n",
    "aff.get_feature_names_out(california.feature_names)"
   ]
  },
  {
   "cell_type": "markdown",
   "id": "48e04e4b",
   "metadata": {},
   "source": [
    "## Naive Bayes\n",
    "From the 20Newsgroups dataset we fetch the documents belonging to three categories, which we use as classes."
   ]
  },
  {
   "cell_type": "code",
   "id": "4e6475d9",
   "metadata": {
    "ExecuteTime": {
     "end_time": "2024-11-21T14:55:50.171404Z",
     "start_time": "2024-11-21T14:55:49.307459Z"
    }
   },
   "source": [
    "from sklearn.datasets import fetch_20newsgroups\n",
    "categories = ['rec.autos', 'rec.motorcycles', 'rec.sport.baseball', 'rec.sport.hockey']\n",
    "train = fetch_20newsgroups(subset='train', categories=categories)\n",
    "test = fetch_20newsgroups(subset='test', categories=categories)"
   ],
   "outputs": [],
   "execution_count": 3
  },
  {
   "cell_type": "markdown",
   "id": "da785a92",
   "metadata": {},
   "source": [
    "For example, the first document in the training data is the following one:"
   ]
  },
  {
   "cell_type": "code",
   "id": "a93d9448",
   "metadata": {
    "ExecuteTime": {
     "end_time": "2024-11-21T14:55:54.201303Z",
     "start_time": "2024-11-21T14:55:54.195789Z"
    }
   },
   "source": [
    "print(train.data[0])"
   ],
   "outputs": [
    {
     "name": "stdout",
     "output_type": "stream",
     "text": [
      "From: swdwan@napier.uwaterloo.ca (Donald Wan)\n",
      "Subject: $ 80 SVX OIL CHANGE\n",
      " \n",
      "Organization: University of Waterloo\n",
      "Lines: 17\n",
      "\n",
      "\n",
      "\n",
      "\n",
      "\n",
      " My friend brought a subaru SVX recently.  I had drove it for couples times and I\n",
      "think its a great car, esp on snow.  However when she took it to a local Subaru\n",
      "dealer for a oil change, the bill came out to be about 80 dollars.  The dealer\n",
      "told us it is because to change the oil filter on a SVX it is necessary to\n",
      "disassemble a metal cover under the engine and that took an hour of labour.\n",
      "At first, we think we are being ripped off so she phone to a dealer in Toronto\n",
      "but found out the they are charging roughly the same price.  So is there any\n",
      "SVX owner out there that has the same problem ?  And if the oil change story is\n",
      "true, then the engineer of Subaru looks pretty stubid to me. By the way, the car\n",
      "looks great.\n",
      "\n",
      "SWD Wan.\n",
      "\n",
      "\n"
     ]
    }
   ],
   "execution_count": 4
  },
  {
   "cell_type": "markdown",
   "id": "d1af6f97",
   "metadata": {},
   "source": [
    "The classes are indicated categorically with indices from zero to two by the target vector. The target names tell us which index belongs to which class."
   ]
  },
  {
   "cell_type": "code",
   "id": "28ceeda7",
   "metadata": {
    "ExecuteTime": {
     "end_time": "2024-11-21T14:55:56.895404Z",
     "start_time": "2024-11-21T14:55:56.887410Z"
    }
   },
   "source": [
    "y_train = train.target\n",
    "y_train"
   ],
   "outputs": [
    {
     "data": {
      "text/plain": [
       "array([0, 3, 0, ..., 3, 1, 2], dtype=int64)"
      ]
     },
     "execution_count": 5,
     "metadata": {},
     "output_type": "execute_result"
    }
   ],
   "execution_count": 5
  },
  {
   "cell_type": "code",
   "id": "6ad3956b",
   "metadata": {
    "ExecuteTime": {
     "end_time": "2024-11-21T14:55:59.470521Z",
     "start_time": "2024-11-21T14:55:59.464165Z"
    }
   },
   "source": [
    "train.target_names"
   ],
   "outputs": [
    {
     "data": {
      "text/plain": [
       "['rec.autos', 'rec.motorcycles', 'rec.sport.baseball', 'rec.sport.hockey']"
      ]
     },
     "execution_count": 6,
     "metadata": {},
     "output_type": "execute_result"
    }
   ],
   "execution_count": 6
  },
  {
   "cell_type": "markdown",
   "id": "9ebde71a",
   "metadata": {},
   "source": [
    "We represent the documents in a bag of word format. That is, we create a data matrix ``D`` such that ``D[j,i]=1`` if the j-th document contains the i-th feature (word), and ``D[j,i]=0`` otherwise. "
   ]
  },
  {
   "cell_type": "code",
   "id": "167204f0",
   "metadata": {
    "ExecuteTime": {
     "end_time": "2024-11-21T14:56:02.870932Z",
     "start_time": "2024-11-21T14:56:02.002338Z"
    }
   },
   "source": [
    "from sklearn.feature_extraction.text import CountVectorizer\n",
    "vectorizer = CountVectorizer(stop_words=\"english\", min_df=5,token_pattern=\"[^\\W\\d_]+\", binary=True)\n",
    "D = vectorizer.fit_transform(train.data)\n",
    "D_test = vectorizer.transform(test.data)"
   ],
   "outputs": [
    {
     "name": "stderr",
     "output_type": "stream",
     "text": [
      "<>:2: SyntaxWarning: invalid escape sequence '\\W'\n",
      "<>:2: SyntaxWarning: invalid escape sequence '\\W'\n",
      "C:\\Users\\20210865\\AppData\\Local\\Temp\\ipykernel_36692\\1998787068.py:2: SyntaxWarning: invalid escape sequence '\\W'\n",
      "  vectorizer = CountVectorizer(stop_words=\"english\", min_df=5,token_pattern=\"[^\\W\\d_]+\", binary=True)\n"
     ]
    }
   ],
   "execution_count": 7
  },
  {
   "cell_type": "markdown",
   "id": "5a9fdf2b",
   "metadata": {},
   "source": [
    "We get the allocation of feature indices to words by the following array, containing the vocabulary."
   ]
  },
  {
   "cell_type": "code",
   "id": "24b0e1c5",
   "metadata": {
    "ExecuteTime": {
     "end_time": "2024-11-21T14:56:14.409135Z",
     "start_time": "2024-11-21T14:56:14.400973Z"
    }
   },
   "source": [
    "vectorizer.get_feature_names_out()"
   ],
   "outputs": [
    {
     "data": {
      "text/plain": [
       "array(['aa', 'aaa', 'aamir', ..., 'zubov', 'zx', 'zz'], dtype=object)"
      ]
     },
     "execution_count": 8,
     "metadata": {},
     "output_type": "execute_result"
    }
   ],
   "execution_count": 8
  },
  {
   "cell_type": "markdown",
   "id": "f6d57b38",
   "metadata": {},
   "source": [
    "For example, the word `naive` has the index 4044."
   ]
  },
  {
   "cell_type": "code",
   "id": "87ace193",
   "metadata": {
    "ExecuteTime": {
     "end_time": "2024-11-21T14:56:17.261162Z",
     "start_time": "2024-11-21T14:56:17.247857Z"
    }
   },
   "source": [
    "np.where(vectorizer.get_feature_names_out() == 'naive')[0]"
   ],
   "outputs": [
    {
     "data": {
      "text/plain": [
       "array([4299], dtype=int64)"
      ]
     },
     "execution_count": 9,
     "metadata": {},
     "output_type": "execute_result"
    }
   ],
   "execution_count": 9
  },
  {
   "cell_type": "markdown",
   "id": "9daf68a3",
   "metadata": {},
   "source": [
    "## Decision Tree"
   ]
  },
  {
   "cell_type": "code",
   "execution_count": 17,
   "id": "f6962d9d",
   "metadata": {},
   "outputs": [],
   "source": [
    "from sklearn.datasets import load_iris\n",
    "iris = load_iris()\n",
    "D, y = iris.data, iris.target"
   ]
  },
  {
   "cell_type": "code",
   "execution_count": 18,
   "id": "07aca608",
   "metadata": {},
   "outputs": [
    {
     "name": "stdout",
     "output_type": "stream",
     "text": [
      ".. _iris_dataset:\n",
      "\n",
      "Iris plants dataset\n",
      "--------------------\n",
      "\n",
      "**Data Set Characteristics:**\n",
      "\n",
      "    :Number of Instances: 150 (50 in each of three classes)\n",
      "    :Number of Attributes: 4 numeric, predictive attributes and the class\n",
      "    :Attribute Information:\n",
      "        - sepal length in cm\n",
      "        - sepal width in cm\n",
      "        - petal length in cm\n",
      "        - petal width in cm\n",
      "        - class:\n",
      "                - Iris-Setosa\n",
      "                - Iris-Versicolour\n",
      "                - Iris-Virginica\n",
      "                \n",
      "    :Summary Statistics:\n",
      "\n",
      "    ============== ==== ==== ======= ===== ====================\n",
      "                    Min  Max   Mean    SD   Class Correlation\n",
      "    ============== ==== ==== ======= ===== ====================\n",
      "    sepal length:   4.3  7.9   5.84   0.83    0.7826\n",
      "    sepal width:    2.0  4.4   3.05   0.43   -0.4194\n",
      "    petal length:   1.0  6.9   3.76   1.76    0.9490  (high!)\n",
      "    petal width:    0.1  2.5   1.20   0.76    0.9565  (high!)\n",
      "    ============== ==== ==== ======= ===== ====================\n",
      "\n",
      "    :Missing Attribute Values: None\n",
      "    :Class Distribution: 33.3% for each of 3 classes.\n",
      "    :Creator: R.A. Fisher\n",
      "    :Donor: Michael Marshall (MARSHALL%PLU@io.arc.nasa.gov)\n",
      "    :Date: July, 1988\n",
      "\n",
      "The famous Iris database, first used by Sir R.A. Fisher. The dataset is taken\n",
      "from Fisher's paper. Note that it's the same as in R, but not as in the UCI\n",
      "Machine Learning Repository, which has two wrong data points.\n",
      "\n",
      "This is perhaps the best known database to be found in the\n",
      "pattern recognition literature.  Fisher's paper is a classic in the field and\n",
      "is referenced frequently to this day.  (See Duda & Hart, for example.)  The\n",
      "data set contains 3 classes of 50 instances each, where each class refers to a\n",
      "type of iris plant.  One class is linearly separable from the other 2; the\n",
      "latter are NOT linearly separable from each other.\n",
      "\n",
      "|details-start|\n",
      "**References**\n",
      "|details-split|\n",
      "\n",
      "- Fisher, R.A. \"The use of multiple measurements in taxonomic problems\"\n",
      "  Annual Eugenics, 7, Part II, 179-188 (1936); also in \"Contributions to\n",
      "  Mathematical Statistics\" (John Wiley, NY, 1950).\n",
      "- Duda, R.O., & Hart, P.E. (1973) Pattern Classification and Scene Analysis.\n",
      "  (Q327.D83) John Wiley & Sons.  ISBN 0-471-22361-1.  See page 218.\n",
      "- Dasarathy, B.V. (1980) \"Nosing Around the Neighborhood: A New System\n",
      "  Structure and Classification Rule for Recognition in Partially Exposed\n",
      "  Environments\".  IEEE Transactions on Pattern Analysis and Machine\n",
      "  Intelligence, Vol. PAMI-2, No. 1, 67-71.\n",
      "- Gates, G.W. (1972) \"The Reduced Nearest Neighbor Rule\".  IEEE Transactions\n",
      "  on Information Theory, May 1972, 431-433.\n",
      "- See also: 1988 MLC Proceedings, 54-64.  Cheeseman et al\"s AUTOCLASS II\n",
      "  conceptual clustering system finds 3 classes in the data.\n",
      "- Many, many more ...\n",
      "\n",
      "|details-end|\n"
     ]
    }
   ],
   "source": [
    "print(iris.DESCR)"
   ]
  },
  {
   "cell_type": "markdown",
   "id": "13e24eba",
   "metadata": {},
   "source": [
    "## SVM"
   ]
  },
  {
   "cell_type": "code",
   "execution_count": 19,
   "id": "c132e3a4",
   "metadata": {},
   "outputs": [],
   "source": [
    "# Standard scientific Python imports\n",
    "import matplotlib.pyplot as plt\n",
    "\n",
    "from sklearn import datasets\n",
    "from sklearn.model_selection import train_test_split"
   ]
  },
  {
   "cell_type": "code",
   "execution_count": 20,
   "id": "b7946aaa",
   "metadata": {},
   "outputs": [
    {
     "data": {
      "image/png": "[encoded data removed]",
      "text/plain": [
       "<Figure size 720x216 with 4 Axes>"
      ]
     },
     "metadata": {
      "needs_background": "light"
     },
     "output_type": "display_data"
    }
   ],
   "source": [
    "digits = datasets.load_digits()\n",
    "\n",
    "_, axes = plt.subplots(nrows=1, ncols=4, figsize=(10, 3))\n",
    "for ax, image, label in zip(axes, digits.images, digits.target):\n",
    "    ax.set_axis_off()\n",
    "    ax.imshow(image, cmap=plt.cm.gray_r, interpolation=\"nearest\")\n",
    "    ax.set_title(\"Label %i\" % label)"
   ]
  },
  {
   "cell_type": "code",
   "execution_count": 21,
   "id": "08ceaddc",
   "metadata": {},
   "outputs": [],
   "source": [
    "# flatten the images\n",
    "n = len(digits.images)\n",
    "D = digits.images.reshape((n, -1))\n",
    "y = digits.target\n",
    "\n",
    "# Split data into 70% train and 30% test subsets\n",
    "D_train, D_test, y_train, y_test = train_test_split(\n",
    "    D, y, test_size=0.3, shuffle=False\n",
    ")"
   ]
  }
 ],
 "metadata": {
  "kernelspec": {
   "display_name": "Python 3 (ipykernel)",
   "language": "python",
   "name": "python3"
  },
  "language_info": {
   "codemirror_mode": {
    "name": "ipython",
    "version": 3
   },
   "file_extension": ".py",
   "mimetype": "text/x-python",
   "name": "python",
   "nbconvert_exporter": "python",
   "pygments_lexer": "ipython3",
   "version": "3.9.13"
  }
 },
 "nbformat": 4,
 "nbformat_minor": 5
}
