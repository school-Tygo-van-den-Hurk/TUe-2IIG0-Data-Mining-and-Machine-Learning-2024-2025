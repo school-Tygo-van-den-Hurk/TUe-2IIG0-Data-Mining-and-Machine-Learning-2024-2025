{
 "cells": [
  {
   "cell_type": "markdown",
   "metadata": {},
   "source": [
    "# Kernel SVM - Digits (+open questions)\n",
    "In the accompanying notebook the digits dataset is loaded. This dataset contains 8x8 pixel images of digits from 0-9. We train a kernel SVM in this exercise to predict the digits. "
   ]
  },
  {
   "cell_type": "markdown",
   "metadata": {},
   "source": [
    "The following code has already been provided:"
   ]
  },
  {
   "cell_type": "code",
   "execution_count": 1,
   "metadata": {},
   "outputs": [],
   "source": [
    "# Standard scientific Python imports\n",
    "import numpy as np\n",
    "import matplotlib.pyplot as plt\n",
    "\n",
    "#sklearn imports\n",
    "import sklearn\n",
    "from sklearn import datasets\n",
    "from sklearn.model_selection import train_test_split"
   ]
  },
  {
   "cell_type": "code",
   "execution_count": 2,
   "metadata": {},
   "outputs": [
    {
     "data": {
      "image/png": "[encoded data removed]",
      "text/plain": [
       "<Figure size 1000x300 with 4 Axes>"
      ]
     },
     "metadata": {},
     "output_type": "display_data"
    }
   ],
   "source": [
    "#Load the data\n",
    "digits = datasets.load_digits()\n",
    "\n",
    "_, axes = plt.subplots(nrows=1, ncols=4, figsize=(10, 3))\n",
    "for ax, image, label in zip(axes, digits.images, digits.target):\n",
    "    ax.set_axis_off()\n",
    "    ax.imshow(image, cmap=plt.cm.gray_r, interpolation=\"nearest\")\n",
    "    ax.set_title(\"Label %i\" % label)"
   ]
  },
  {
   "cell_type": "code",
   "execution_count": 3,
   "metadata": {},
   "outputs": [],
   "source": [
    "# flatten the images\n",
    "n = len(digits.images)\n",
    "D = digits.images.reshape((n, -1))\n",
    "y = digits.target\n",
    "\n",
    "# Split data into 70% train and 30% test subsets\n",
    "D_train, D_test, y_train, y_test = train_test_split(\n",
    "    D, y, test_size=0.3, shuffle=False\n",
    ")"
   ]
  },
  {
   "cell_type": "markdown",
   "metadata": {},
   "source": [
    "## 7a (3pts)\n",
    "Train an RBF kernel SVM with parameters `gamma=0.0008`, `C=0.9`. Use the SVC SVM model from sklearn to do so. Train the model on the `D_train` dataset (70-30 split) and test the model on the `D_test` dataset."
   ]
  },
  {
   "cell_type": "code",
   "execution_count": 4,
   "metadata": {},
   "outputs": [
    {
     "data": {
      "text/html": [
       "<style>#sk-container-id-1 {color: black;}#sk-container-id-1 pre{padding: 0;}#sk-container-id-1 div.sk-toggleable {background-color: white;}#sk-container-id-1 label.sk-toggleable__label {cursor: pointer;display: block;width: 100%;margin-bottom: 0;padding: 0.3em;box-sizing: border-box;text-align: center;}#sk-container-id-1 label.sk-toggleable__label-arrow:before {content: \"▸\";float: left;margin-right: 0.25em;color: #696969;}#sk-container-id-1 label.sk-toggleable__label-arrow:hover:before {color: black;}#sk-container-id-1 div.sk-estimator:hover label.sk-toggleable__label-arrow:before {color: black;}#sk-container-id-1 div.sk-toggleable__content {max-height: 0;max-width: 0;overflow: hidden;text-align: left;background-color: #f0f8ff;}#sk-container-id-1 div.sk-toggleable__content pre {margin: 0.2em;color: black;border-radius: 0.25em;background-color: #f0f8ff;}#sk-container-id-1 input.sk-toggleable__control:checked~div.sk-toggleable__content {max-height: 200px;max-width: 100%;overflow: auto;}#sk-container-id-1 input.sk-toggleable__control:checked~label.sk-toggleable__label-arrow:before {content: \"▾\";}#sk-container-id-1 div.sk-estimator input.sk-toggleable__control:checked~label.sk-toggleable__label {background-color: #d4ebff;}#sk-container-id-1 div.sk-label input.sk-toggleable__control:checked~label.sk-toggleable__label {background-color: #d4ebff;}#sk-container-id-1 input.sk-hidden--visually {border: 0;clip: rect(1px 1px 1px 1px);clip: rect(1px, 1px, 1px, 1px);height: 1px;margin: -1px;overflow: hidden;padding: 0;position: absolute;width: 1px;}#sk-container-id-1 div.sk-estimator {font-family: monospace;background-color: #f0f8ff;border: 1px dotted black;border-radius: 0.25em;box-sizing: border-box;margin-bottom: 0.5em;}#sk-container-id-1 div.sk-estimator:hover {background-color: #d4ebff;}#sk-container-id-1 div.sk-parallel-item::after {content: \"\";width: 100%;border-bottom: 1px solid gray;flex-grow: 1;}#sk-container-id-1 div.sk-label:hover label.sk-toggleable__label {background-color: #d4ebff;}#sk-container-id-1 div.sk-serial::before {content: \"\";position: absolute;border-left: 1px solid gray;box-sizing: border-box;top: 0;bottom: 0;left: 50%;z-index: 0;}#sk-container-id-1 div.sk-serial {display: flex;flex-direction: column;align-items: center;background-color: white;padding-right: 0.2em;padding-left: 0.2em;position: relative;}#sk-container-id-1 div.sk-item {position: relative;z-index: 1;}#sk-container-id-1 div.sk-parallel {display: flex;align-items: stretch;justify-content: center;background-color: white;position: relative;}#sk-container-id-1 div.sk-item::before, #sk-container-id-1 div.sk-parallel-item::before {content: \"\";position: absolute;border-left: 1px solid gray;box-sizing: border-box;top: 0;bottom: 0;left: 50%;z-index: -1;}#sk-container-id-1 div.sk-parallel-item {display: flex;flex-direction: column;z-index: 1;position: relative;background-color: white;}#sk-container-id-1 div.sk-parallel-item:first-child::after {align-self: flex-end;width: 50%;}#sk-container-id-1 div.sk-parallel-item:last-child::after {align-self: flex-start;width: 50%;}#sk-container-id-1 div.sk-parallel-item:only-child::after {width: 0;}#sk-container-id-1 div.sk-dashed-wrapped {border: 1px dashed gray;margin: 0 0.4em 0.5em 0.4em;box-sizing: border-box;padding-bottom: 0.4em;background-color: white;}#sk-container-id-1 div.sk-label label {font-family: monospace;font-weight: bold;display: inline-block;line-height: 1.2em;}#sk-container-id-1 div.sk-label-container {text-align: center;}#sk-container-id-1 div.sk-container {/* jupyter's `normalize.less` sets `[hidden] { display: none; }` but bootstrap.min.css set `[hidden] { display: none !important; }` so we also need the `!important` here to be able to override the default hidden behavior on the sphinx rendered scikit-learn.org. See: https://github.com/scikit-learn/scikit-learn/issues/21755 */display: inline-block !important;position: relative;}#sk-container-id-1 div.sk-text-repr-fallback {display: none;}</style><div id=\"sk-container-id-1\" class=\"sk-top-container\"><div class=\"sk-text-repr-fallback\"><pre>SVC(C=0.9, gamma=0.0008)</pre><b>In a Jupyter environment, please rerun this cell to show the HTML representation or trust the notebook. <br />On GitHub, the HTML representation is unable to render, please try loading this page with nbviewer.org.</b></div><div class=\"sk-container\" hidden><div class=\"sk-item\"><div class=\"sk-estimator sk-toggleable\"><input class=\"sk-toggleable__control sk-hidden--visually\" id=\"sk-estimator-id-1\" type=\"checkbox\" checked><label for=\"sk-estimator-id-1\" class=\"sk-toggleable__label sk-toggleable__label-arrow\">SVC</label><div class=\"sk-toggleable__content\"><pre>SVC(C=0.9, gamma=0.0008)</pre></div></div></div></div></div>"
      ],
      "text/plain": [
       "SVC(C=0.9, gamma=0.0008)"
      ]
     },
     "execution_count": 4,
     "metadata": {},
     "output_type": "execute_result"
    }
   ],
   "source": [
    "from sklearn import svm\n",
    "\n",
    "clf = svm.SVC(gamma=0.0008, C=0.9) #rbf is the default kernel\n",
    "clf.fit(D_train, y_train)"
   ]
  },
  {
   "cell_type": "markdown",
   "metadata": {},
   "source": [
    "What is the accuracy of the model on the test data?"
   ]
  },
  {
   "cell_type": "code",
   "execution_count": 5,
   "metadata": {},
   "outputs": [
    {
     "data": {
      "text/plain": [
       "0.9629629629629629"
      ]
     },
     "execution_count": 5,
     "metadata": {},
     "output_type": "execute_result"
    }
   ],
   "source": [
    "y_pred = clf.predict(D_test)\n",
    "accuracy = sum(y_pred == y_test)/len(y_test)\n",
    "accuracy"
   ]
  },
  {
   "cell_type": "markdown",
   "metadata": {},
   "source": [
    "## 7b (5pts)\n",
    "The multiclass SVM from sklearn uses a one-vs-one scheme: one SVM is learned for each combination of two classes. Correspondingly, we can interpret the support vectors based on our knowledge on what happens \"under the hood\". To that end, explain first how the prediction of a class $y\\in\\{−1,1\\}$ is determined by the support vectors of that SVM. State the prediction formula for SVMs and explain where we find the support vectors in the formula and how the prediction works depending on the kernel, the support vectors and the learned parameters."
   ]
  },
  {
   "cell_type": "markdown",
   "metadata": {},
   "source": [
    "Intuitively the prediction for some new point $\\mathbf{x}$ can be thought of as a question of whether $\\mathbf{x}$ is on the positive or negative side of a barrier, whose general shape is determined by the kernel (in case of the linear kernel, this barrier would be a hyperplane) and whose exact position is determined by the support vectors, such that it is *farthest* away from them.\n",
    "\n",
    "The exact prediction formula for a class $y \\in \\{-1, 1\\}$ kernel SVM is the following:\n",
    "$$h(\\mathbf{x})=\\text{sign}\\left(\\displaystyle\\sum_i\\alpha_i^*y_ik(\\mathbf{x}_i,\\mathbf{x})-b^*\\right)$$\n",
    "\n",
    "Here the learned parameters are $b^*$ the bias, and the $\\alpha_i$-s who are the coefficients of the support vectors (the `dual_coefficient` in `sklearn.svc`is $= \\alpha_iy_i$). The $\\mathbf{x}_i$-s are the test data (and $y_i$-s are their labels), and those $\\mathbf{x}_i$-s whose coefficient $\\alpha_i$ is not $0$ are called the support vectors (in practice it is sufficient to only ever calculate with these). Finally, our kernel $k$ is a positive definite function that assigns a real number to a pair of vectors (it is the Gaussian kernel in our case as we chose rbf).\n",
    "\n",
    "So using the kernel we obtain a number of similarity measures between our point and the support vectors (the points of the training set that were deemed to be 'on the edge'), the sign of these similarities is then provided by the training labels of the support vectors, and then we take the weighted sum of the signed similarities where the weights are the learned coefficients 'the relative importance of each support vector'. Finally, a bias (also learned) is added to the sum, and the final prediction is the sign of the result."
   ]
  },
  {
   "cell_type": "markdown",
   "metadata": {},
   "source": [
    "## 7c (4pts)\n",
    "Sklearn has a peculiar way to denote the learned support vectors. To understand how this works read section 1.4.1.1 on [this website](https://scikit-learn.org/stable/modules/svm.html#svm-multi-class), including the multi-class strategies and answer the following questions for the model obtained in question part a."
   ]
  },
  {
   "cell_type": "markdown",
   "metadata": {},
   "source": [
    "The number of support vectors belonging to class `0` can be obtained as `clf.n_support_[0]`.\n",
    "\n",
    "Furthermore the dual coefficients of these SVs are stored in the array `clf.dual_coef_`, more precisely they are the first `n=clf.n_support_[0]` elements of one of the rows, int this case row `0`.\n",
    "\n",
    "In general to find the coefficients of the support vectors between class `a` and `b` we can refer to the table found in the link above, and for the names of the attributes we can refer to the documentation of SVC."
   ]
  },
  {
   "cell_type": "markdown",
   "metadata": {},
   "source": [
    "How many support vectors are there to distinguish between classes 0 and 1?"
   ]
  },
  {
   "cell_type": "markdown",
   "metadata": {},
   "source": [
    "Note that `clf.n_support[i]` denotes the total number of supprot vecotrs belongig to class `i`. So this is the number of SVs that are used to differentiate class `i` from *any* other class."
   ]
  },
  {
   "cell_type": "code",
   "execution_count": 6,
   "metadata": {},
   "outputs": [
    {
     "data": {
      "text/plain": [
       "(37, 75)"
      ]
     },
     "execution_count": 6,
     "metadata": {},
     "output_type": "execute_result"
    }
   ],
   "source": [
    "clf.n_support_[0], clf.n_support_[1]"
   ]
  },
  {
   "cell_type": "markdown",
   "metadata": {},
   "source": [
    "- The Coefficients of the support vectors from class 0 to class 1 are the first 37 elements of the first row, thus 37 is the number of SVs belonging to class 0.\n",
    "- The coefficients for the support vectors from class 1 to class 0 are the 38th to the 75+37th elements. \n",
    "- Finally we take only the nonzero cefficients as the SVs whose coefficients are 0 don't actually matter, given they are not support vectors between these two classes. "
   ]
  },
  {
   "cell_type": "code",
   "execution_count": 7,
   "metadata": {},
   "outputs": [
    {
     "name": "stdout",
     "output_type": "stream",
     "text": [
      "The number of support vectors to distinguish between classes 0 and 1: 41\n"
     ]
    }
   ],
   "source": [
    "# The first 37 elements of the first row, since 1 is the smallest class that is not 0, and class 0 has 37 SVs. \n",
    "supp_coef_0to1 = clf.dual_coef_[0][0:clf.n_support_[0]] \n",
    "\n",
    "#The first 75 elements of the first row skipping 37, since 0 is the smallest class (that is not 1), \n",
    "#and class 0 has 37 SVs that we need to skip, while class 1 has 75 that we are interested in. \n",
    "supp_coef_1to0 = clf.dual_coef_[0][clf.n_support_[0]:clf.n_support_[0]+clf.n_support_[1]] \n",
    "\n",
    "#we count all the nonzero coefficients, as these are the ones that are actually support vectors between classes 0 and 1\n",
    "nonzero_supp = np.count_nonzero(supp_coef_0to1) + np.count_nonzero(supp_coef_1to0)\n",
    "print(f\"The number of support vectors to distinguish between classes 0 and 1: {nonzero_supp}\")"
   ]
  },
  {
   "cell_type": "markdown",
   "metadata": {},
   "source": [
    "## 7d (12pts)\n",
    "1. Explain how you extract the support vectors for the SVM classifying between 0 and 1 from the sklearn model. Include screenshots of your code to make clear how you arrive at your result for Question c.\n"
   ]
  },
  {
   "cell_type": "markdown",
   "metadata": {},
   "source": [
    "2. Use the plotting function from the notebook to plot four of the support vectors for each class (four support vectors for class 0 and four for class 1) that are most influential for the SVM discriminating between class 0 and 1. Explain how and why you chose the plotted support vectors.\n"
   ]
  },
  {
   "cell_type": "markdown",
   "metadata": {},
   "source": [
    "For each four we want to pick the four support vectors whose coefficients are greatest (absolute value), as this should indicate that they are the most important for making the decision. To find these we can just find the indicies of the four largest elements in the coefficient arrays we obtained for the previous exercise."
   ]
  },
  {
   "cell_type": "code",
   "execution_count": 8,
   "metadata": {},
   "outputs": [
    {
     "data": {
      "text/plain": [
       "(array([30,  6, 31, 19], dtype=int64),\n",
       " array([110,  87,  45, 111], dtype=int64))"
      ]
     },
     "execution_count": 8,
     "metadata": {},
     "output_type": "execute_result"
    }
   ],
   "source": [
    "#get the indicies of the four most significant support vectors in each class (with respect to the other class)\n",
    "significant_0to1 = np.abs(supp_coef_0to1).argsort()[-4:] #abs is not needed as all are >= 0\n",
    "significant_1to0 = np.abs(supp_coef_1to0).argsort()[-4:] + clf.n_support_[0] #could be argmin as all are <= 0\n",
    "significant_0to1, significant_1to0"
   ]
  },
  {
   "cell_type": "code",
   "execution_count": 13,
   "metadata": {},
   "outputs": [
    {
     "data": {
      "image/png": "[encoded data removed]",
      "text/plain": [
       "<Figure size 1000x700 with 8 Axes>"
      ]
     },
     "metadata": {},
     "output_type": "display_data"
    }
   ],
   "source": [
    "fig, axes = plt.subplots(nrows=2, ncols=4, figsize=(10, 7)) # get the plot\n",
    "\n",
    "fig.text(0.08, 0.75, \"Class 0\", fontsize=14, rotation=90, va='center')\n",
    "fig.text(0.08, 0.25, \"Class 1\", fontsize=14, rotation=90, va='center')\n",
    "\n",
    "#plot of the SVs of class 0\n",
    "for ax, image, label in zip(axes[0, :], clf.support_vectors_[significant_0to1], supp_coef_0to1[significant_0to1]):\n",
    "    ax.set_axis_off()\n",
    "    ax.imshow(image.reshape(8,8), cmap=plt.cm.gray_r, interpolation=\"nearest\")\n",
    "    ax.set_title(\"Coeff=%.4f\" % label)\n",
    "#plot of the SVs of class 1    \n",
    "for ax, image, label in zip(axes[1, :], clf.support_vectors_[significant_1to0], supp_coef_1to0[(significant_1to0 - clf.n_support_[0])]):\n",
    "    ax.set_axis_off()\n",
    "    ax.imshow(image.reshape(8,8), cmap=plt.cm.gray_r, interpolation=\"nearest\")\n",
    "    ax.set_title(\"Coeff=%.4f\" % label)"
   ]
  },
  {
   "cell_type": "markdown",
   "metadata": {},
   "source": [
    "3. Based on the role that the support vectors have in the prediction, what would you expect what the plotted support vectors look like, or what characteristic they would have? Do you see these characteristics in the plotted support vectors or are you surprised by the result?"
   ]
  },
  {
   "cell_type": "markdown",
   "metadata": {},
   "source": [
    "Our general expectation is that the most significant support vectors will be the images that are most easily confusable for the other class.\n",
    "So based on this we can say that `coeff=0.90` and `coeff=-0.41` are both images that matched this expectation, as we can clearly see a resemblence to the other digit in them. However the importance of some of the others is somewhat less evident, thus we can say that the overall results are somewhat surprising."
   ]
  },
  {
   "cell_type": "markdown",
   "metadata": {},
   "source": [
    "## 7e (6pts)\n",
    "Use the sklearn function `GridSearchCV` to determine the best combination for the parameters `gamma` and `C` according to a 5-fold cross validation of the SVC SVM with RBG kernel. Train the model on the whole dataset `D`, not just `D_train`. Use as the scoring method the accuracy and set as the candidate parameters $gamma \\in \\{0.0001,0.0006,0.001,0.006\\}$ and $C \\in \\{0.6,0.8,1,2,3,4,6\\}$."
   ]
  },
  {
   "cell_type": "code",
   "execution_count": 14,
   "metadata": {},
   "outputs": [
    {
     "data": {
      "text/html": [
       "<style>#sk-container-id-2 {color: black;}#sk-container-id-2 pre{padding: 0;}#sk-container-id-2 div.sk-toggleable {background-color: white;}#sk-container-id-2 label.sk-toggleable__label {cursor: pointer;display: block;width: 100%;margin-bottom: 0;padding: 0.3em;box-sizing: border-box;text-align: center;}#sk-container-id-2 label.sk-toggleable__label-arrow:before {content: \"▸\";float: left;margin-right: 0.25em;color: #696969;}#sk-container-id-2 label.sk-toggleable__label-arrow:hover:before {color: black;}#sk-container-id-2 div.sk-estimator:hover label.sk-toggleable__label-arrow:before {color: black;}#sk-container-id-2 div.sk-toggleable__content {max-height: 0;max-width: 0;overflow: hidden;text-align: left;background-color: #f0f8ff;}#sk-container-id-2 div.sk-toggleable__content pre {margin: 0.2em;color: black;border-radius: 0.25em;background-color: #f0f8ff;}#sk-container-id-2 input.sk-toggleable__control:checked~div.sk-toggleable__content {max-height: 200px;max-width: 100%;overflow: auto;}#sk-container-id-2 input.sk-toggleable__control:checked~label.sk-toggleable__label-arrow:before {content: \"▾\";}#sk-container-id-2 div.sk-estimator input.sk-toggleable__control:checked~label.sk-toggleable__label {background-color: #d4ebff;}#sk-container-id-2 div.sk-label input.sk-toggleable__control:checked~label.sk-toggleable__label {background-color: #d4ebff;}#sk-container-id-2 input.sk-hidden--visually {border: 0;clip: rect(1px 1px 1px 1px);clip: rect(1px, 1px, 1px, 1px);height: 1px;margin: -1px;overflow: hidden;padding: 0;position: absolute;width: 1px;}#sk-container-id-2 div.sk-estimator {font-family: monospace;background-color: #f0f8ff;border: 1px dotted black;border-radius: 0.25em;box-sizing: border-box;margin-bottom: 0.5em;}#sk-container-id-2 div.sk-estimator:hover {background-color: #d4ebff;}#sk-container-id-2 div.sk-parallel-item::after {content: \"\";width: 100%;border-bottom: 1px solid gray;flex-grow: 1;}#sk-container-id-2 div.sk-label:hover label.sk-toggleable__label {background-color: #d4ebff;}#sk-container-id-2 div.sk-serial::before {content: \"\";position: absolute;border-left: 1px solid gray;box-sizing: border-box;top: 0;bottom: 0;left: 50%;z-index: 0;}#sk-container-id-2 div.sk-serial {display: flex;flex-direction: column;align-items: center;background-color: white;padding-right: 0.2em;padding-left: 0.2em;position: relative;}#sk-container-id-2 div.sk-item {position: relative;z-index: 1;}#sk-container-id-2 div.sk-parallel {display: flex;align-items: stretch;justify-content: center;background-color: white;position: relative;}#sk-container-id-2 div.sk-item::before, #sk-container-id-2 div.sk-parallel-item::before {content: \"\";position: absolute;border-left: 1px solid gray;box-sizing: border-box;top: 0;bottom: 0;left: 50%;z-index: -1;}#sk-container-id-2 div.sk-parallel-item {display: flex;flex-direction: column;z-index: 1;position: relative;background-color: white;}#sk-container-id-2 div.sk-parallel-item:first-child::after {align-self: flex-end;width: 50%;}#sk-container-id-2 div.sk-parallel-item:last-child::after {align-self: flex-start;width: 50%;}#sk-container-id-2 div.sk-parallel-item:only-child::after {width: 0;}#sk-container-id-2 div.sk-dashed-wrapped {border: 1px dashed gray;margin: 0 0.4em 0.5em 0.4em;box-sizing: border-box;padding-bottom: 0.4em;background-color: white;}#sk-container-id-2 div.sk-label label {font-family: monospace;font-weight: bold;display: inline-block;line-height: 1.2em;}#sk-container-id-2 div.sk-label-container {text-align: center;}#sk-container-id-2 div.sk-container {/* jupyter's `normalize.less` sets `[hidden] { display: none; }` but bootstrap.min.css set `[hidden] { display: none !important; }` so we also need the `!important` here to be able to override the default hidden behavior on the sphinx rendered scikit-learn.org. See: https://github.com/scikit-learn/scikit-learn/issues/21755 */display: inline-block !important;position: relative;}#sk-container-id-2 div.sk-text-repr-fallback {display: none;}</style><div id=\"sk-container-id-2\" class=\"sk-top-container\"><div class=\"sk-text-repr-fallback\"><pre>GridSearchCV(cv=5, estimator=SVC(),\n",
       "             param_grid={&#x27;C&#x27;: [0.6, 0.8, 1, 2, 3, 4, 6],\n",
       "                         &#x27;gamma&#x27;: [0.0001, 0.0006, 0.001, 0.006]},\n",
       "             scoring=&#x27;accuracy&#x27;)</pre><b>In a Jupyter environment, please rerun this cell to show the HTML representation or trust the notebook. <br />On GitHub, the HTML representation is unable to render, please try loading this page with nbviewer.org.</b></div><div class=\"sk-container\" hidden><div class=\"sk-item sk-dashed-wrapped\"><div class=\"sk-label-container\"><div class=\"sk-label sk-toggleable\"><input class=\"sk-toggleable__control sk-hidden--visually\" id=\"sk-estimator-id-2\" type=\"checkbox\" ><label for=\"sk-estimator-id-2\" class=\"sk-toggleable__label sk-toggleable__label-arrow\">GridSearchCV</label><div class=\"sk-toggleable__content\"><pre>GridSearchCV(cv=5, estimator=SVC(),\n",
       "             param_grid={&#x27;C&#x27;: [0.6, 0.8, 1, 2, 3, 4, 6],\n",
       "                         &#x27;gamma&#x27;: [0.0001, 0.0006, 0.001, 0.006]},\n",
       "             scoring=&#x27;accuracy&#x27;)</pre></div></div></div><div class=\"sk-parallel\"><div class=\"sk-parallel-item\"><div class=\"sk-item\"><div class=\"sk-label-container\"><div class=\"sk-label sk-toggleable\"><input class=\"sk-toggleable__control sk-hidden--visually\" id=\"sk-estimator-id-3\" type=\"checkbox\" ><label for=\"sk-estimator-id-3\" class=\"sk-toggleable__label sk-toggleable__label-arrow\">estimator: SVC</label><div class=\"sk-toggleable__content\"><pre>SVC()</pre></div></div></div><div class=\"sk-serial\"><div class=\"sk-item\"><div class=\"sk-estimator sk-toggleable\"><input class=\"sk-toggleable__control sk-hidden--visually\" id=\"sk-estimator-id-4\" type=\"checkbox\" ><label for=\"sk-estimator-id-4\" class=\"sk-toggleable__label sk-toggleable__label-arrow\">SVC</label><div class=\"sk-toggleable__content\"><pre>SVC()</pre></div></div></div></div></div></div></div></div></div></div>"
      ],
      "text/plain": [
       "GridSearchCV(cv=5, estimator=SVC(),\n",
       "             param_grid={'C': [0.6, 0.8, 1, 2, 3, 4, 6],\n",
       "                         'gamma': [0.0001, 0.0006, 0.001, 0.006]},\n",
       "             scoring='accuracy')"
      ]
     },
     "execution_count": 14,
     "metadata": {},
     "output_type": "execute_result"
    }
   ],
   "source": [
    "import sklearn.model_selection\n",
    "\n",
    "\n",
    "gammas = [0.0001, 0.0006, 0.001, 0.006]\n",
    "Cs = [0.6, 0.8, 1, 2, 3, 4, 6]\n",
    "\n",
    "# while the exercise asks for RBG kernel which doesn't exist, it is reasonable to assume the it meant to say RBF.\n",
    "grid_svc = svm.SVC(kernel='rbf') \n",
    "grid_clf = sklearn.model_selection.GridSearchCV(grid_svc, {\"gamma\":gammas, \"C\":Cs}, scoring='accuracy', cv=5)\n",
    "grid_clf.fit(D, y)"
   ]
  },
  {
   "cell_type": "code",
   "execution_count": 15,
   "metadata": {},
   "outputs": [
    {
     "data": {
      "text/html": [
       "<div>\n",
       "<style scoped>\n",
       "    .dataframe tbody tr th:only-of-type {\n",
       "        vertical-align: middle;\n",
       "    }\n",
       "\n",
       "    .dataframe tbody tr th {\n",
       "        vertical-align: top;\n",
       "    }\n",
       "\n",
       "    .dataframe thead th {\n",
       "        text-align: right;\n",
       "    }\n",
       "</style>\n",
       "<table border=\"1\" class=\"dataframe\">\n",
       "  <thead>\n",
       "    <tr style=\"text-align: right;\">\n",
       "      <th></th>\n",
       "      <th>mean_fit_time</th>\n",
       "      <th>std_fit_time</th>\n",
       "      <th>mean_score_time</th>\n",
       "      <th>std_score_time</th>\n",
       "      <th>param_C</th>\n",
       "      <th>param_gamma</th>\n",
       "      <th>params</th>\n",
       "      <th>split0_test_score</th>\n",
       "      <th>split1_test_score</th>\n",
       "      <th>split2_test_score</th>\n",
       "      <th>split3_test_score</th>\n",
       "      <th>split4_test_score</th>\n",
       "      <th>mean_test_score</th>\n",
       "      <th>std_test_score</th>\n",
       "      <th>rank_test_score</th>\n",
       "    </tr>\n",
       "  </thead>\n",
       "  <tbody>\n",
       "    <tr>\n",
       "      <th>25</th>\n",
       "      <td>0.100408</td>\n",
       "      <td>0.008937</td>\n",
       "      <td>0.058927</td>\n",
       "      <td>0.002516</td>\n",
       "      <td>6</td>\n",
       "      <td>0.0006</td>\n",
       "      <td>{'C': 6, 'gamma': 0.0006}</td>\n",
       "      <td>0.983333</td>\n",
       "      <td>0.955556</td>\n",
       "      <td>0.983287</td>\n",
       "      <td>0.991643</td>\n",
       "      <td>0.958217</td>\n",
       "      <td>0.974407</td>\n",
       "      <td>0.014650</td>\n",
       "      <td>1</td>\n",
       "    </tr>\n",
       "    <tr>\n",
       "      <th>17</th>\n",
       "      <td>0.074973</td>\n",
       "      <td>0.004217</td>\n",
       "      <td>0.049982</td>\n",
       "      <td>0.004510</td>\n",
       "      <td>3</td>\n",
       "      <td>0.0006</td>\n",
       "      <td>{'C': 3, 'gamma': 0.0006}</td>\n",
       "      <td>0.983333</td>\n",
       "      <td>0.950000</td>\n",
       "      <td>0.983287</td>\n",
       "      <td>0.994429</td>\n",
       "      <td>0.958217</td>\n",
       "      <td>0.973853</td>\n",
       "      <td>0.016827</td>\n",
       "      <td>2</td>\n",
       "    </tr>\n",
       "    <tr>\n",
       "      <th>21</th>\n",
       "      <td>0.093431</td>\n",
       "      <td>0.008595</td>\n",
       "      <td>0.062509</td>\n",
       "      <td>0.004999</td>\n",
       "      <td>4</td>\n",
       "      <td>0.0006</td>\n",
       "      <td>{'C': 4, 'gamma': 0.0006}</td>\n",
       "      <td>0.983333</td>\n",
       "      <td>0.950000</td>\n",
       "      <td>0.983287</td>\n",
       "      <td>0.991643</td>\n",
       "      <td>0.958217</td>\n",
       "      <td>0.973296</td>\n",
       "      <td>0.016170</td>\n",
       "      <td>3</td>\n",
       "    </tr>\n",
       "    <tr>\n",
       "      <th>14</th>\n",
       "      <td>0.122485</td>\n",
       "      <td>0.004570</td>\n",
       "      <td>0.072909</td>\n",
       "      <td>0.010594</td>\n",
       "      <td>2</td>\n",
       "      <td>0.001</td>\n",
       "      <td>{'C': 2, 'gamma': 0.001}</td>\n",
       "      <td>0.977778</td>\n",
       "      <td>0.950000</td>\n",
       "      <td>0.983287</td>\n",
       "      <td>0.988858</td>\n",
       "      <td>0.963788</td>\n",
       "      <td>0.972742</td>\n",
       "      <td>0.014097</td>\n",
       "      <td>4</td>\n",
       "    </tr>\n",
       "    <tr>\n",
       "      <th>13</th>\n",
       "      <td>0.093530</td>\n",
       "      <td>0.012587</td>\n",
       "      <td>0.056376</td>\n",
       "      <td>0.001352</td>\n",
       "      <td>2</td>\n",
       "      <td>0.0006</td>\n",
       "      <td>{'C': 2, 'gamma': 0.0006}</td>\n",
       "      <td>0.983333</td>\n",
       "      <td>0.947222</td>\n",
       "      <td>0.983287</td>\n",
       "      <td>0.991643</td>\n",
       "      <td>0.958217</td>\n",
       "      <td>0.972741</td>\n",
       "      <td>0.016987</td>\n",
       "      <td>5</td>\n",
       "    </tr>\n",
       "  </tbody>\n",
       "</table>\n",
       "</div>"
      ],
      "text/plain": [
       "    mean_fit_time  std_fit_time  mean_score_time  std_score_time param_C  \\\n",
       "25       0.100408      0.008937         0.058927        0.002516       6   \n",
       "17       0.074973      0.004217         0.049982        0.004510       3   \n",
       "21       0.093431      0.008595         0.062509        0.004999       4   \n",
       "14       0.122485      0.004570         0.072909        0.010594       2   \n",
       "13       0.093530      0.012587         0.056376        0.001352       2   \n",
       "\n",
       "   param_gamma                     params  split0_test_score  \\\n",
       "25      0.0006  {'C': 6, 'gamma': 0.0006}           0.983333   \n",
       "17      0.0006  {'C': 3, 'gamma': 0.0006}           0.983333   \n",
       "21      0.0006  {'C': 4, 'gamma': 0.0006}           0.983333   \n",
       "14       0.001   {'C': 2, 'gamma': 0.001}           0.977778   \n",
       "13      0.0006  {'C': 2, 'gamma': 0.0006}           0.983333   \n",
       "\n",
       "    split1_test_score  split2_test_score  split3_test_score  \\\n",
       "25           0.955556           0.983287           0.991643   \n",
       "17           0.950000           0.983287           0.994429   \n",
       "21           0.950000           0.983287           0.991643   \n",
       "14           0.950000           0.983287           0.988858   \n",
       "13           0.947222           0.983287           0.991643   \n",
       "\n",
       "    split4_test_score  mean_test_score  std_test_score  rank_test_score  \n",
       "25           0.958217         0.974407        0.014650                1  \n",
       "17           0.958217         0.973853        0.016827                2  \n",
       "21           0.958217         0.973296        0.016170                3  \n",
       "14           0.963788         0.972742        0.014097                4  \n",
       "13           0.958217         0.972741        0.016987                5  "
      ]
     },
     "execution_count": 15,
     "metadata": {},
     "output_type": "execute_result"
    }
   ],
   "source": [
    "import pandas as pd\n",
    "pd.DataFrame(grid_clf.cv_results_).sort_values(['rank_test_score']).head()"
   ]
  },
  {
   "cell_type": "markdown",
   "metadata": {},
   "source": [
    "What are the parameters resulting in the highest cross-validated scores?"
   ]
  },
  {
   "cell_type": "markdown",
   "metadata": {},
   "source": [
    "It is assumed taht the exercise is asking for the 'highest mean test score' when it said 'highest cross-validated scores', but there is no universal winner."
   ]
  },
  {
   "cell_type": "code",
   "execution_count": 18,
   "metadata": {},
   "outputs": [
    {
     "name": "stdout",
     "output_type": "stream",
     "text": [
      "Resulting highes cross-validated scores: {'C': 6, 'gamma': 0.0006}\n"
     ]
    }
   ],
   "source": [
    "print(f\"Resulting highes cross-validated scores: {grid_clf.best_params_}\")"
   ]
  },
  {
   "cell_type": "markdown",
   "metadata": {},
   "source": [
    "What is the mean cross-validates accuracy of these parameters?"
   ]
  },
  {
   "cell_type": "markdown",
   "metadata": {},
   "source": [
    "'mean cross-validates accuracy of these parameters' = mean cross-validate**d** score of **the estimator with** these parameters"
   ]
  },
  {
   "cell_type": "code",
   "execution_count": 19,
   "metadata": {},
   "outputs": [
    {
     "name": "stdout",
     "output_type": "stream",
     "text": [
      "Accuracy: 0.9744073042401734\n"
     ]
    }
   ],
   "source": [
    "print(f\"Accuracy: {grid_clf.best_score_}\")"
   ]
  }
 ],
 "metadata": {
  "kernelspec": {
   "display_name": "Python 3",
   "language": "python",
   "name": "python3"
  },
  "language_info": {
   "codemirror_mode": {
    "name": "ipython",
    "version": 3
   },
   "file_extension": ".py",
   "mimetype": "text/x-python",
   "name": "python",
   "nbconvert_exporter": "python",
   "pygments_lexer": "ipython3",
   "version": "3.11.9"
  }
 },
 "nbformat": 4,
 "nbformat_minor": 2
}
