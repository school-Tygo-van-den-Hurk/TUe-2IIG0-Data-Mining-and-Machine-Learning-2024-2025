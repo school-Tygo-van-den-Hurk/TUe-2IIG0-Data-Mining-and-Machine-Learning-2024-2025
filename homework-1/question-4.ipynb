{
 "cells": [
  {
   "cell_type": "code",
   "execution_count": 56,
   "metadata": {},
   "outputs": [],
   "source": [
    "from numpy import tan, pi, mean"
   ]
  },
  {
   "cell_type": "markdown",
   "metadata": {},
   "source": [
    "# Bias-Variance trade off\n",
    "Consider the following true regression function:\n",
    "\n",
    "$$f^∗(x) = \\tan⁡(\\pi \\cdot x)$$"
   ]
  },
  {
   "cell_type": "code",
   "execution_count": 57,
   "metadata": {},
   "outputs": [],
   "source": [
    "def f_true(x:float) -> float:\n",
    "    return tan(pi * x)"
   ]
  },
  {
   "cell_type": "markdown",
   "metadata": {},
   "source": [
    "Imagine you fit three regression models on the i.i.d. data samples $\\mathcal{D}_1, \\mathcal{D}_2,\\mathcal{D}_3$ and obtain the following models:\n",
    "\n",
    "$$f_{\\mathcal{D}_1}(x) =  x + 0.2$$\n",
    "$$f_{\\mathcal{D}_2}(x) = 3x + 0.3$$\n",
    "$$f_{\\mathcal{D}_3}(x) = 5x + 0.1$$\n"
   ]
  },
  {
   "cell_type": "code",
   "execution_count": 58,
   "metadata": {},
   "outputs": [],
   "source": [
    "functions = [ \n",
    "    lambda x:   x + 0.2,\n",
    "    lambda x: 3*x + 0.3,\n",
    "    lambda x: 5*x + 0.1,\n",
    "]"
   ]
  },
  {
   "cell_type": "markdown",
   "metadata": {},
   "source": [
    "**Hint**: you may use the corresponding formulas given in the lecture and interpret $\\mathbb{E}_{\\mathcal{D}} [f_{\\mathcal{D}}(x_0) ]$ as the mean over the samples listed above at $x_0$."
   ]
  },
  {
   "cell_type": "code",
   "execution_count": 59,
   "metadata": {},
   "outputs": [],
   "source": [
    "def compute_average_of(functions):\n",
    "    \"\"\"\n",
    "    builder pattern use as `compute_average_of(functions).at(0)`.\n",
    "    \"\"\"\n",
    "    class AverageFunction:\n",
    "        def __init__(self, functions):\n",
    "            self.functions = functions\n",
    "        def at(self, x):\n",
    "            return mean([function(x) for function in self.functions])\n",
    "    return AverageFunction(functions)"
   ]
  },
  {
   "cell_type": "markdown",
   "metadata": {},
   "source": [
    "## Question 4 (6 points)\n",
    "Compute for $x_0=0$ the sample $bias^2$ =\n",
    "\n"
   ]
  },
  {
   "cell_type": "code",
   "execution_count": 60,
   "metadata": {},
   "outputs": [
    {
     "name": "stdout",
     "output_type": "stream",
     "text": [
      "The $bias^2 = 0.039999999999999994$ assuming average of $f$ is $f(x_0)$.\n"
     ]
    }
   ],
   "source": [
    "def compute_bias_squared(functions, x0):\n",
    "    average = compute_average_of(functions).at(x0)\n",
    "    y0 = f_true(x0)\n",
    "    return ( average - y0 )**2\n",
    "\n",
    "\n",
    "bias_squared = compute_bias_squared(functions, 0)\n",
    "print(\"The $bias^2 = \"+str(bias_squared)+\"$ assuming average of $f$ is $f(x_0)$.\")"
   ]
  },
  {
   "cell_type": "markdown",
   "metadata": {
    "vscode": {
     "languageId": "plaintext"
    }
   },
   "source": [
    "And so $variance =$"
   ]
  },
  {
   "cell_type": "code",
   "execution_count": 61,
   "metadata": {},
   "outputs": [
    {
     "name": "stdout",
     "output_type": "stream",
     "text": [
      "The $variance = 0.006666666666666665$.\n"
     ]
    }
   ],
   "source": [
    "def compute_variance(functions, x0):\n",
    "    average = compute_average_of(functions).at(x0)\n",
    "    result = 0\n",
    "    for function in functions:\n",
    "        result += ( function(x0) - average )**2\n",
    "    return result / len(functions)\n",
    "\n",
    "\n",
    "variance = compute_variance(functions, 0)\n",
    "print(\"The $variance = \"+str(variance)+\"$.\")"
   ]
  }
 ],
 "metadata": {
  "kernelspec": {
   "display_name": "Python 3",
   "language": "python",
   "name": "python3"
  },
  "language_info": {
   "codemirror_mode": {
    "name": "ipython",
    "version": 3
   },
   "file_extension": ".py",
   "mimetype": "text/x-python",
   "name": "python",
   "nbconvert_exporter": "python",
   "pygments_lexer": "ipython3",
   "version": "3.12.7"
  }
 },
 "nbformat": 4,
 "nbformat_minor": 2
}
