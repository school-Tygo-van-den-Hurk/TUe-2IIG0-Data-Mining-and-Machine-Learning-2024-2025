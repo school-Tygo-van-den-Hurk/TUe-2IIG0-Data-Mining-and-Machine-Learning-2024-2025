{
 "cells": [
  {
   "cell_type": "markdown",
   "metadata": {},
   "source": [
    "# Bias-var trade off\n",
    "Consider the following true regression function:\n",
    "\n",
    "$$f^∗(x) = \\tan⁡(\\pi \\cdot x)$$\n",
    "\n",
    "Imagine you fit three regression models on the i.i.d. data samples $\\mathcal{D}_1, \\mathcal{D}_2,\\mathcal{D}_3$ and obtain the following models:\n",
    "\n",
    "$$f_{D_1}(x) =  x + 0.2$$\n",
    "$$f_{D_2}(x) = 3x + 0.3$$\n",
    "$$f_{D_3}(x) = 5x + 0.1$$"
   ]
  },
  {
   "cell_type": "code",
   "execution_count": null,
   "metadata": {
    "vscode": {
     "languageId": "plaintext"
    }
   },
   "outputs": [],
   "source": []
  },
  {
   "cell_type": "markdown",
   "metadata": {},
   "source": [
    "## Question 4 (6 points)\n",
    "Compute for $x_0=0$ the sample $bias^2$ =\n",
    "\n"
   ]
  },
  {
   "cell_type": "code",
   "execution_count": null,
   "metadata": {
    "vscode": {
     "languageId": "plaintext"
    }
   },
   "outputs": [],
   "source": []
  },
  {
   "cell_type": "markdown",
   "metadata": {
    "vscode": {
     "languageId": "plaintext"
    }
   },
   "source": [
    "And so $variance =$"
   ]
  },
  {
   "cell_type": "markdown",
   "metadata": {},
   "source": []
  },
  {
   "cell_type": "markdown",
   "metadata": {},
   "source": [
    "\n",
    "**Hint**: you may use the corresponding formulas given in the lecture and interpret $E_D [f_D(x_0) ]$ as the mean over the samples listed above at $x_0$."
   ]
  }
 ],
 "metadata": {
  "language_info": {
   "name": "python"
  }
 },
 "nbformat": 4,
 "nbformat_minor": 2
}
