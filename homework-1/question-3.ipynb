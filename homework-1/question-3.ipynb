{
 "cells": [
  {
   "cell_type": "code",
   "execution_count": 2,
   "metadata": {},
   "outputs": [],
   "source": [
    "import numpy as np"
   ]
  },
  {
   "cell_type": "markdown",
   "metadata": {},
   "source": [
    "## Regression - Polynomial features"
   ]
  },
  {
   "cell_type": "code",
   "execution_count": 3,
   "metadata": {},
   "outputs": [
    {
     "name": "stdout",
     "output_type": "stream",
     "text": [
      "The scikit-learn version is 1.4.1.post1.\n"
     ]
    }
   ],
   "source": [
    "import sklearn\n",
    "\n",
    "# check sklearn version\n",
    "print('The scikit-learn version is {}.'.format(sklearn.__version__))"
   ]
  },
  {
   "cell_type": "markdown",
   "metadata": {},
   "source": [
    "# 3a "
   ]
  },
  {
   "cell_type": "code",
   "execution_count": 4,
   "metadata": {},
   "outputs": [
    {
     "name": "stdout",
     "output_type": "stream",
     "text": [
      ".. _california_housing_dataset:\n",
      "\n",
      "California Housing dataset\n",
      "--------------------------\n",
      "\n",
      "**Data Set Characteristics:**\n",
      "\n",
      ":Number of Instances: 20640\n",
      "\n",
      ":Number of Attributes: 8 numeric, predictive attributes and the target\n",
      "\n",
      ":Attribute Information:\n",
      "    - MedInc        median income in block group\n",
      "    - HouseAge      median house age in block group\n",
      "    - AveRooms      average number of rooms per household\n",
      "    - AveBedrms     average number of bedrooms per household\n",
      "    - Population    block group population\n",
      "    - AveOccup      average number of household members\n",
      "    - Latitude      block group latitude\n",
      "    - Longitude     block group longitude\n",
      "\n",
      ":Missing Attribute Values: None\n",
      "\n",
      "This dataset was obtained from the StatLib repository.\n",
      "https://www.dcc.fc.up.pt/~ltorgo/Regression/cal_housing.html\n",
      "\n",
      "The target variable is the median house value for California districts,\n",
      "expressed in hundreds of thousands of dollars ($100,000).\n",
      "\n",
      "This dataset was derived from the 1990 U.S. census, using one row per census\n",
      "block group. A block group is the smallest geographical unit for which the U.S.\n",
      "Census Bureau publishes sample data (a block group typically has a population\n",
      "of 600 to 3,000 people).\n",
      "\n",
      "A household is a group of people residing within a home. Since the average\n",
      "number of rooms and bedrooms in this dataset are provided per household, these\n",
      "columns may take surprisingly large values for block groups with few households\n",
      "and many empty houses, such as vacation resorts.\n",
      "\n",
      "It can be downloaded/loaded using the\n",
      ":func:`sklearn.datasets.fetch_california_housing` function.\n",
      "\n",
      ".. topic:: References\n",
      "\n",
      "    - Pace, R. Kelley and Ronald Barry, Sparse Spatial Autoregressions,\n",
      "      Statistics and Probability Letters, 33 (1997) 291-297\n",
      "\n"
     ]
    }
   ],
   "source": [
    "# import the dataset\n",
    "from sklearn.datasets import fetch_california_housing\n",
    "california = fetch_california_housing()\n",
    "\n",
    "# not required by the assignment but good to see\n",
    "print(california.DESCR)"
   ]
  },
  {
   "cell_type": "markdown",
   "metadata": {},
   "source": [
    "Creating the data matrix"
   ]
  },
  {
   "cell_type": "code",
   "execution_count": null,
   "metadata": {},
   "outputs": [
    {
     "name": "stdout",
     "output_type": "stream",
     "text": [
      "Number of samples: 20640\n",
      "Dimension of the features: 8\n"
     ]
    }
   ],
   "source": [
    "# create the data matrix\n",
    "D = california.data\n",
    "y = california.target\n",
    "n,d = D.shape\n",
    "print(f\"Number of samples: {n}\")\n",
    "print(f\"Dimension of the features: {d}\")"
   ]
  },
  {
   "cell_type": "markdown",
   "metadata": {},
   "source": [
    "Preprocessing"
   ]
  },
  {
   "cell_type": "code",
   "execution_count": 10,
   "metadata": {},
   "outputs": [],
   "source": [
    "from sklearn.preprocessing import StandardScaler\n",
    "\n",
    "# Scale the data matrix using the StandardScaler\n",
    "scaler = StandardScaler()\n",
    "D_scaled = scaler.fit_transform(D)"
   ]
  },
  {
   "cell_type": "markdown",
   "metadata": {},
   "source": [
    "Creating a design matrix with polynomial features"
   ]
  },
  {
   "cell_type": "code",
   "execution_count": 11,
   "metadata": {},
   "outputs": [
    {
     "name": "stdout",
     "output_type": "stream",
     "text": [
      "Shape of the design matrix: (20640, 45)\n"
     ]
    }
   ],
   "source": [
    "# using the scaled data matrix\n",
    "from sklearn.preprocessing import PolynomialFeatures\n",
    "aff = PolynomialFeatures(2,include_bias=True)\n",
    "X = aff.fit_transform(D_scaled)\n",
    "\n",
    "print(\"Shape of the design matrix:\", X.shape)"
   ]
  },
  {
   "cell_type": "markdown",
   "metadata": {},
   "source": [
    "# 3b"
   ]
  },
  {
   "cell_type": "markdown",
   "metadata": {},
   "source": [
    "Training the model"
   ]
  },
  {
   "cell_type": "code",
   "execution_count": 12,
   "metadata": {},
   "outputs": [],
   "source": [
    "from sklearn.linear_model import LinearRegression\n",
    "\n",
    "# fit the LinearRegression model\n",
    "reg_model = LinearRegression()\n",
    "reg_model.fit(X, y)\n",
    "\n",
    "\n",
    "feature_names = aff.get_feature_names_out(california.feature_names)\n",
    "coefficients = reg_model.coef_"
   ]
  },
  {
   "cell_type": "markdown",
   "metadata": {},
   "source": [
    "Print the results"
   ]
  },
  {
   "cell_type": "code",
   "execution_count": 15,
   "metadata": {},
   "outputs": [
    {
     "name": "stdout",
     "output_type": "stream",
     "text": [
      "Beta_MedInc = 0.9224368884326505, Beta_MedIncAveBedrms = -0.1675843580431766, Beta_HouseAgeAveBedrms = 0.06328854538476117\n"
     ]
    }
   ],
   "source": [
    "# get the regression parameters for the required features\n",
    "beta_MedInc = coefficients[np.where(feature_names == \"MedInc\")]\n",
    "beta_MedIncAveBedrms = coefficients[np.where(feature_names == \"MedInc AveBedrms\")]\n",
    "beta_HouseAgeAveBedrms = coefficients[np.where(feature_names == \"HouseAge AveBedrms\")]\n",
    "\n",
    "# print the results\n",
    "print(f\"Beta_MedInc = {beta_MedInc[0]}, Beta_MedIncAveBedrms = {beta_MedIncAveBedrms[0]}, Beta_HouseAgeAveBedrms = {beta_HouseAgeAveBedrms[0]}\")"
   ]
  },
  {
   "cell_type": "markdown",
   "metadata": {},
   "source": [
    "# 3c"
   ]
  },
  {
   "cell_type": "markdown",
   "metadata": {},
   "source": [
    "Scale the input"
   ]
  },
  {
   "cell_type": "code",
   "execution_count": 16,
   "metadata": {},
   "outputs": [],
   "source": [
    "# given the built ridge regression has a different objective \n",
    "# we must first scale the input\n",
    "n_samples = X.shape[0]\n",
    "X_scaled = X / np.sqrt(n_samples)\n",
    "y_scaled = y / np.sqrt(n_samples)"
   ]
  },
  {
   "cell_type": "markdown",
   "metadata": {},
   "source": [
    "Train the model"
   ]
  },
  {
   "cell_type": "code",
   "execution_count": 17,
   "metadata": {},
   "outputs": [],
   "source": [
    "from sklearn.linear_model import Ridge\n",
    "\n",
    "# fit the ridge model, with alpha = 0.1\n",
    "ridge_model = Ridge(alpha=0.1, fit_intercept=True)\n",
    "ridge_model.fit(X_scaled, y_scaled)\n",
    "\n",
    "ridge_feature_names = aff.get_feature_names_out(california.feature_names)\n",
    "ridge_coefficients = ridge_model.coef_"
   ]
  },
  {
   "cell_type": "markdown",
   "metadata": {},
   "source": [
    "Print the results"
   ]
  },
  {
   "cell_type": "code",
   "execution_count": 18,
   "metadata": {},
   "outputs": [
    {
     "name": "stdout",
     "output_type": "stream",
     "text": [
      "Ridge_Beta_MedInc = 0.7515683813318791, Ridge_Beta_MedIncAveBedrms = -0.0716395704911665, Ridge_Beta_HouseAgeAveBedrms = 0.01625976841452806\n"
     ]
    }
   ],
   "source": [
    "# get the regression parameters for the required features\n",
    "ridge_beta_MedInc = ridge_coefficients[np.where(ridge_feature_names == \"MedInc\")]\n",
    "ridge_beta_MedIncAveBedrms = ridge_coefficients[np.where(ridge_feature_names == \"MedInc AveBedrms\")]\n",
    "ridge_beta_HouseAgeAveBedrms = ridge_coefficients[np.where(ridge_feature_names == \"HouseAge AveBedrms\")]\n",
    "\n",
    "print(f\"Ridge_Beta_MedInc = {ridge_beta_MedInc[0]}, Ridge_Beta_MedIncAveBedrms = {ridge_beta_MedIncAveBedrms[0]}, Ridge_Beta_HouseAgeAveBedrms = {ridge_beta_HouseAgeAveBedrms[0]}\")"
   ]
  }
 ],
 "metadata": {
  "kernelspec": {
   "display_name": "Python 3",
   "language": "python",
   "name": "python3"
  },
  "language_info": {
   "codemirror_mode": {
    "name": "ipython",
    "version": 3
   },
   "file_extension": ".py",
   "mimetype": "text/x-python",
   "name": "python",
   "nbconvert_exporter": "python",
   "pygments_lexer": "ipython3",
   "version": "3.12.2"
  }
 },
 "nbformat": 4,
 "nbformat_minor": 2
}
