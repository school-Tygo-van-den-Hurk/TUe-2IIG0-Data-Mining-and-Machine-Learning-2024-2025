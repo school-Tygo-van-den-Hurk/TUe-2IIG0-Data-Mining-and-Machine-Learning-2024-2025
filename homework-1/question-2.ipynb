{
 "cells": [
  {
   "cell_type": "markdown",
   "metadata": {},
   "source": [
    "# Coordinate Descent\n",
    "Consider the function    \n",
    "\n",
    "$$f(x)=e^{x_1 −x_2+1}+e^{x_2−x_3+2}+e^{x_3−x_1+3}$$\n",
    "\n",
    "We try to find the minimum of $f$ with coordinate descent. "
   ]
  },
  {
   "cell_type": "markdown",
   "metadata": {},
   "source": [
    "## 2a (3pts)\n",
    "Implement for each coordinate $x_i$ $(i\\in\\{1,2,3\\})$ a function `argmin_xi(x)` that returns $\\argmin_{x_i} f(x)$."
   ]
  },
  {
   "cell_type": "code",
   "execution_count": 1,
   "metadata": {},
   "outputs": [],
   "source": [
    "# f'(x) = e^(x_1-x_2+1)-e^(x_3-x1+3) \n",
    "# So we have to have e^(x_1-x_2+1) = e^(x_3-x1+3)\n",
    "# thus x_1-x_2+1 = x_3-x1+3\n",
    "# which will mean x_1 = (x_3 + x_2 + 2)/2\n",
    "# (note that each step in here was a bi-implication, so there is only 1 point where f' is 0, and it can be considered that this is a global minimum not a maximum/inflection)\n",
    "def argmin_x1 (x):\n",
    "    return (x[1]+x[2])/2 + 1 \n",
    "\n",
    "# f'(x) = e^(x_2-x_3+2) - e^(x_1-x_2+1)\n",
    "# So we have to have e^(x_2-x_3+2) = e^(x_1-x_2+1)\n",
    "# thus x_2-x_3+2 = x_1-x_2+1\n",
    "# which will mean x_2 = (x_1 + x_3 - 1)/2\n",
    "# (note that each step in here was a bi-implication, so there is only 1 point where f' is 0, and it can be considered that this is a global minimum not a maximum/inflection)\n",
    "def argmin_x2 (x):\n",
    "    return (x[0] + x[2] - 1)/2\n",
    "\n",
    "# f'(x) = e^(x_3-x_1+3) - e^(x_2-x_3+2)\n",
    "# So we have to have e^(x_3-x_1+3) = e^(x_2-x_3+2)\n",
    "# thus x_3-x_1+3 = x_2-x_3+2\n",
    "# which will mean x_3 = (x_2 + x_1 - 1)/2\n",
    "# (note that each step in here was a bi-implication, so there is only 1 point where f' is 0, and it can be considered that this is a global minimum not a maximum/inflection)\n",
    "def argmin_x3 (x):\n",
    "    return (x[1] + x[0] - 1)/2"
   ]
  },
  {
   "cell_type": "markdown",
   "metadata": {},
   "source": [
    " Compute the $\\argmin$ for each coordinate on $\\underline{x}'=(2,3,4)$"
   ]
  },
  {
   "cell_type": "code",
   "execution_count": 2,
   "metadata": {},
   "outputs": [
    {
     "name": "stdout",
     "output_type": "stream",
     "text": [
      "4.5\n",
      "2.5\n",
      "2.0\n"
     ]
    }
   ],
   "source": [
    "x_prime = (2.0,3.0,4.0)\n",
    "print(argmin_x1(x_prime))\n",
    "print(argmin_x2(x_prime))\n",
    "print(argmin_x3(x_prime))"
   ]
  },
  {
   "cell_type": "markdown",
   "metadata": {},
   "source": [
    "## 2b (9pts)\n",
    "Implement a function `coordinate_descent(f, argmin, x_0, max_iter=100)` that performs max_iter coordinate descent steps, where\n",
    "- `f` is the function to be minimized (check the function values at each iteration),\n",
    "- `argmin` is an array of the `argmin_xi` functions for each coordinate, and\n",
    "- `x_0` is the starting point (initialization).\n",
    "\n",
    "So, at iteration `t` we have to go through all the coordinates (indexed by `i`, going from the first to the last coordinate index) and update each coordinate with the update rule `x_t[i] = argmin[i](x_t)`\n",
    "\n",
    "Starting at `x_0=(1,20,5)`, run your coordinate descent implementation and answer the following questions.\n"
   ]
  },
  {
   "cell_type": "code",
   "execution_count": 3,
   "metadata": {},
   "outputs": [],
   "source": [
    "import numpy as np\n",
    "\n",
    "#implementing the function f, even though it is not needed\n",
    "def f(x):\n",
    "    return np.exp(x[0]-x[1]+1)+np.exp(x[1]-x[2]+2)+np.exp(x[2]-x[0]+3)\n",
    "\n",
    "#defining an array for the argmin functions for convenience\n",
    "argmins = [argmin_x1, argmin_x2, argmin_x3]\n",
    "\n",
    "#implementing coordinate descent\n",
    "def coordinate_descent(f, argmin, x_0, max_iter=100):\n",
    "    #initialize all values\n",
    "    x = np.array(x_0)\n",
    "    xs = [0]*(max_iter+1) #to keep track of the minimizers in each iterations\n",
    "    fxs = [0]*(max_iter+1) #to keep track of the minima found in each iteration (for debugging)\n",
    "\n",
    "    #values before iterations\n",
    "    xs[0] = tuple(x_0) \n",
    "    fxs[0] = f(x_0)\n",
    "\n",
    "    #iteration loop\n",
    "    for t in range(max_iter):\n",
    "        #loop through coordinates in each iteration\n",
    "        for i in range(len(argmin)):\n",
    "            #update the coordinate\n",
    "            x[i] = argmin[i](x)\n",
    "        #at the end of the iteration save the minimizer and correspondig minima\n",
    "        xs[t+1] = tuple(x)\n",
    "        fxs[t+1] = f(x)\n",
    "    return tuple(x), xs, fxs\n"
   ]
  },
  {
   "cell_type": "markdown",
   "metadata": {},
   "source": [
    "What are the first three coordinate update results (for the first iteration)?"
   ]
  },
  {
   "cell_type": "code",
   "execution_count": 4,
   "metadata": {},
   "outputs": [
    {
     "data": {
      "text/plain": [
       "(13.5, 8.75, 10.625)"
      ]
     },
     "execution_count": 4,
     "metadata": {},
     "output_type": "execute_result"
    }
   ],
   "source": [
    "x_star, xs, fxs = coordinate_descent(f, argmins, (1.0, 20.0, 5.0))\n",
    "xs[1]"
   ]
  },
  {
   "cell_type": "markdown",
   "metadata": {},
   "source": [
    "What is the minimizer coordinate descent converges to?"
   ]
  },
  {
   "cell_type": "code",
   "execution_count": 5,
   "metadata": {},
   "outputs": [
    {
     "data": {
      "text/plain": [
       "(11.0, 10.0, 10.0)"
      ]
     },
     "execution_count": 5,
     "metadata": {},
     "output_type": "execute_result"
    }
   ],
   "source": [
    "x_star"
   ]
  },
  {
   "cell_type": "code",
   "execution_count": 6,
   "metadata": {},
   "outputs": [
    {
     "name": "stdout",
     "output_type": "stream",
     "text": [
      "((1.0, 20.0, 5.0), 24156049.38673374)\n",
      "((13.5, 8.75, 10.625), 316.4569571918279)\n",
      "((10.6875, 10.15625, 9.921875), 23.30523740506907)\n",
      "((11.0390625, 9.98046875, 10.009765625), 22.186384455902566)\n",
      "((10.9951171875, 10.00244140625, 9.998779296875), 22.167465219784063)\n",
      "((11.0006103515625, 9.99969482421875, 10.000152587890625), 22.167172942577434)\n",
      "((10.999923706054688, 10.000038146972656, 9.999980926513672), 22.167168369369886)\n",
      "((11.000009536743164, 9.999995231628418, 10.000002384185791), 22.167168297926004)\n",
      "((10.999998807907104, 10.000000596046448, 9.999999701976776), 22.16716829680967)\n",
      "((11.000000149011612, 9.999999925494194, 10.000000037252903), 22.167168296792227)\n",
      "((10.999999981373549, 10.000000009313226, 9.999999995343387), 22.167168296791957)\n",
      "((11.000000002328306, 9.999999998835847, 10.000000000582077), 22.16716829679195)\n",
      "((10.999999999708962, 10.00000000014552, 9.99999999992724), 22.16716829679195)\n",
      "((11.00000000003638, 9.99999999998181, 10.000000000009095), 22.16716829679195)\n",
      "((10.999999999995453, 10.000000000002274, 9.999999999998863), 22.16716829679195)\n",
      "((11.000000000000568, 9.999999999999716, 10.000000000000142), 22.16716829679195)\n",
      "((10.999999999999929, 10.000000000000036, 9.999999999999982), 22.16716829679195)\n",
      "((11.000000000000009, 9.999999999999996, 10.000000000000004), 22.16716829679195)\n",
      "((11.0, 10.000000000000002, 10.0), 22.16716829679195)\n",
      "((11.0, 10.0, 10.0), 22.16716829679195)\n",
      "((11.0, 10.0, 10.0), 22.16716829679195)\n",
      "((11.0, 10.0, 10.0), 22.16716829679195)\n",
      "((11.0, 10.0, 10.0), 22.16716829679195)\n",
      "((11.0, 10.0, 10.0), 22.16716829679195)\n",
      "((11.0, 10.0, 10.0), 22.16716829679195)\n",
      "((11.0, 10.0, 10.0), 22.16716829679195)\n",
      "((11.0, 10.0, 10.0), 22.16716829679195)\n",
      "((11.0, 10.0, 10.0), 22.16716829679195)\n",
      "((11.0, 10.0, 10.0), 22.16716829679195)\n",
      "((11.0, 10.0, 10.0), 22.16716829679195)\n",
      "((11.0, 10.0, 10.0), 22.16716829679195)\n",
      "((11.0, 10.0, 10.0), 22.16716829679195)\n",
      "((11.0, 10.0, 10.0), 22.16716829679195)\n",
      "((11.0, 10.0, 10.0), 22.16716829679195)\n",
      "((11.0, 10.0, 10.0), 22.16716829679195)\n",
      "((11.0, 10.0, 10.0), 22.16716829679195)\n",
      "((11.0, 10.0, 10.0), 22.16716829679195)\n",
      "((11.0, 10.0, 10.0), 22.16716829679195)\n",
      "((11.0, 10.0, 10.0), 22.16716829679195)\n",
      "((11.0, 10.0, 10.0), 22.16716829679195)\n",
      "((11.0, 10.0, 10.0), 22.16716829679195)\n",
      "((11.0, 10.0, 10.0), 22.16716829679195)\n",
      "((11.0, 10.0, 10.0), 22.16716829679195)\n",
      "((11.0, 10.0, 10.0), 22.16716829679195)\n",
      "((11.0, 10.0, 10.0), 22.16716829679195)\n",
      "((11.0, 10.0, 10.0), 22.16716829679195)\n",
      "((11.0, 10.0, 10.0), 22.16716829679195)\n",
      "((11.0, 10.0, 10.0), 22.16716829679195)\n",
      "((11.0, 10.0, 10.0), 22.16716829679195)\n",
      "((11.0, 10.0, 10.0), 22.16716829679195)\n",
      "((11.0, 10.0, 10.0), 22.16716829679195)\n",
      "((11.0, 10.0, 10.0), 22.16716829679195)\n",
      "((11.0, 10.0, 10.0), 22.16716829679195)\n",
      "((11.0, 10.0, 10.0), 22.16716829679195)\n",
      "((11.0, 10.0, 10.0), 22.16716829679195)\n",
      "((11.0, 10.0, 10.0), 22.16716829679195)\n",
      "((11.0, 10.0, 10.0), 22.16716829679195)\n",
      "((11.0, 10.0, 10.0), 22.16716829679195)\n",
      "((11.0, 10.0, 10.0), 22.16716829679195)\n",
      "((11.0, 10.0, 10.0), 22.16716829679195)\n",
      "((11.0, 10.0, 10.0), 22.16716829679195)\n",
      "((11.0, 10.0, 10.0), 22.16716829679195)\n",
      "((11.0, 10.0, 10.0), 22.16716829679195)\n",
      "((11.0, 10.0, 10.0), 22.16716829679195)\n",
      "((11.0, 10.0, 10.0), 22.16716829679195)\n",
      "((11.0, 10.0, 10.0), 22.16716829679195)\n",
      "((11.0, 10.0, 10.0), 22.16716829679195)\n",
      "((11.0, 10.0, 10.0), 22.16716829679195)\n",
      "((11.0, 10.0, 10.0), 22.16716829679195)\n",
      "((11.0, 10.0, 10.0), 22.16716829679195)\n",
      "((11.0, 10.0, 10.0), 22.16716829679195)\n",
      "((11.0, 10.0, 10.0), 22.16716829679195)\n",
      "((11.0, 10.0, 10.0), 22.16716829679195)\n",
      "((11.0, 10.0, 10.0), 22.16716829679195)\n",
      "((11.0, 10.0, 10.0), 22.16716829679195)\n",
      "((11.0, 10.0, 10.0), 22.16716829679195)\n",
      "((11.0, 10.0, 10.0), 22.16716829679195)\n",
      "((11.0, 10.0, 10.0), 22.16716829679195)\n",
      "((11.0, 10.0, 10.0), 22.16716829679195)\n",
      "((11.0, 10.0, 10.0), 22.16716829679195)\n",
      "((11.0, 10.0, 10.0), 22.16716829679195)\n",
      "((11.0, 10.0, 10.0), 22.16716829679195)\n",
      "((11.0, 10.0, 10.0), 22.16716829679195)\n",
      "((11.0, 10.0, 10.0), 22.16716829679195)\n",
      "((11.0, 10.0, 10.0), 22.16716829679195)\n",
      "((11.0, 10.0, 10.0), 22.16716829679195)\n",
      "((11.0, 10.0, 10.0), 22.16716829679195)\n",
      "((11.0, 10.0, 10.0), 22.16716829679195)\n",
      "((11.0, 10.0, 10.0), 22.16716829679195)\n",
      "((11.0, 10.0, 10.0), 22.16716829679195)\n",
      "((11.0, 10.0, 10.0), 22.16716829679195)\n",
      "((11.0, 10.0, 10.0), 22.16716829679195)\n",
      "((11.0, 10.0, 10.0), 22.16716829679195)\n",
      "((11.0, 10.0, 10.0), 22.16716829679195)\n",
      "((11.0, 10.0, 10.0), 22.16716829679195)\n",
      "((11.0, 10.0, 10.0), 22.16716829679195)\n",
      "((11.0, 10.0, 10.0), 22.16716829679195)\n",
      "((11.0, 10.0, 10.0), 22.16716829679195)\n",
      "((11.0, 10.0, 10.0), 22.16716829679195)\n",
      "((11.0, 10.0, 10.0), 22.16716829679195)\n",
      "((11.0, 10.0, 10.0), 22.16716829679195)\n"
     ]
    }
   ],
   "source": [
    "#to show us the steps taken in case we care, not part of the assignment\n",
    "for i in range(len(xs)):\n",
    "    print((xs[i], fxs[i]))"
   ]
  }
 ],
 "metadata": {
  "kernelspec": {
   "display_name": "Python 3",
   "language": "python",
   "name": "python3"
  },
  "language_info": {
   "codemirror_mode": {
    "name": "ipython",
    "version": 3
   },
   "file_extension": ".py",
   "mimetype": "text/x-python",
   "name": "python",
   "nbconvert_exporter": "python",
   "pygments_lexer": "ipython3",
   "version": "3.8.10"
  }
 },
 "nbformat": 4,
 "nbformat_minor": 2
}
