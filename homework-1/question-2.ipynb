{
 "cells": [
  {
   "cell_type": "markdown",
   "metadata": {},
   "source": [
    "# Coordinate Descent\n",
    "Consider the function    \n",
    "\n",
    "$$f(x)=e^{x_1 −x_2+1}+e^{x_2−x_3+2}+e^{x_3−x_1+3}$$\n",
    "\n",
    "We try to find the minimum of $f$ with coordinate descent. "
   ]
  },
  {
   "cell_type": "markdown",
   "metadata": {},
   "source": [
    "## 2a (3pts)\n",
    "Implement for each coordinate $x_i$ $(i\\in\\{1,2,3\\})$ a function `argmin_xi(x)` that returns $\\argmin_{x_i} f(x)$."
   ]
  },
  {
   "cell_type": "code",
   "execution_count": null,
   "metadata": {},
   "outputs": [],
   "source": [
    "# f'(x) = e^(x_1-x_2+1)-e^(x_3-x1+3) \n",
    "# So we have to have e^(x_1-x_2+1) = e^(x_3-x1+3)\n",
    "# thus x_1-x_2+1 = x_3-x1+3\n",
    "# which will mean x_1 = (x_3 + x_2 + 2)/2\n",
    "# (note that each step in here was a bi-implication, so there is only 1 point where f' is 0, and it can be considered that this is a global minimum not a maximum/inflection)\n",
    "def argmin_x1 (x):\n",
    "    return (x[1]+x[2])/2 + 1 \n",
    "\n",
    "# f'(x) = e^(x_2-x_3+2) - e^(x_1-x_2+1)\n",
    "# So we have to have e^(x_2-x_3+2) = e^(x_1-x_2+1)\n",
    "# thus x_2-x_3+2 = x_1-x_2+1\n",
    "# which will mean x_2 = (x_1 + x_3 - 1)/2\n",
    "# (note that each step in here was a bi-implication, so there is only 1 point where f' is 0, and it can be considered that this is a global minimum not a maximum/inflection)\n",
    "def argmin_x2 (x):\n",
    "    return (x[0] + x[2] - 1)/2\n",
    "\n",
    "# f'(x) = e^(x_3-x_1+3) - e^(x_2-x_3+2)\n",
    "# So we have to have e^(x_3-x_1+3) = e^(x_2-x_3+2)\n",
    "# thus x_3-x_1+3 = x_2-x_3+2\n",
    "# which will mean x_3 = (x_2 + x_1 - 1)/2\n",
    "# (note that each step in here was a bi-implication, so there is only 1 point where f' is 0, and it can be considered that this is a global minimum not a maximum/inflection)\n",
    "def argmin_x3 (x):\n",
    "    return (x[1] + x[0] - 1)/2"
   ]
  },
  {
   "cell_type": "markdown",
   "metadata": {},
   "source": [
    " Compute the $\\argmin$ for each coordinate on $\\underline{x}'=(2,3,4)$"
   ]
  },
  {
   "cell_type": "code",
   "execution_count": null,
   "metadata": {},
   "outputs": [],
   "source": [
    "x_prime = (2,3,4)\n",
    "print(argmin_x1(x_prime))\n",
    "print(argmin_x2(x_prime))\n",
    "print(argmin_x3(x_prime))"
   ]
  },
  {
   "cell_type": "markdown",
   "metadata": {},
   "source": [
    "## 2b (9pts)\n",
    "Implement a function `coordinate_descent(f, argmin, x_0, max_iter=100)` that performs max_iter coordinate descent steps, where\n",
    "- `f` is the function to be minimized (check the function values at each iteration),\n",
    "- `argmin` is an array of the `argmin_xi` functions for each coordinate, and\n",
    "- `x_0` is the starting point (initialization).\n",
    "\n",
    "So, at iteration `t` we have to go through all the coordinates (indexed by `i`, going from the first to the last coordinate index) and update each coordinate with the update rule `x_t[i] = argmin[i](x_t)`\n",
    "\n",
    "Starting at `x_0=(1,20,5)`, run your coordinate descent implementation and answer the following questions.\n"
   ]
  },
  {
   "cell_type": "code",
   "execution_count": null,
   "metadata": {},
   "outputs": [],
   "source": []
  },
  {
   "cell_type": "markdown",
   "metadata": {},
   "source": [
    "What are the first three coordinate update results (for the first iteration)?"
   ]
  },
  {
   "cell_type": "code",
   "execution_count": null,
   "metadata": {},
   "outputs": [],
   "source": []
  },
  {
   "cell_type": "markdown",
   "metadata": {},
   "source": [
    "What is the minimizer coordinate descent converges to?"
   ]
  },
  {
   "cell_type": "code",
   "execution_count": null,
   "metadata": {},
   "outputs": [],
   "source": []
  }
 ],
 "metadata": {
  "kernelspec": {
   "display_name": "Python 3",
   "language": "python",
   "name": "python3"
  },
  "language_info": {
   "codemirror_mode": {
    "name": "ipython",
    "version": 3
   },
   "file_extension": ".py",
   "mimetype": "text/x-python",
   "name": "python",
   "nbconvert_exporter": "python",
   "pygments_lexer": "ipython3",
   "version": "3.8.10"
  }
 },
 "nbformat": 4,
 "nbformat_minor": 2
}
