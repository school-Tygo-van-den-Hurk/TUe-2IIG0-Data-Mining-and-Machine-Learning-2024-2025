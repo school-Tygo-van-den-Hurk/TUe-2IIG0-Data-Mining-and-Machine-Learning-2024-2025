{
 "cells": [
  {
   "metadata": {},
   "cell_type": "markdown",
   "source": [
    "# Question 3: Your own personal Netflix\n",
    "In the lecture, we have briefly discussed a strategy for recommender systems to cope with the effect of many missing values in the rating matrix. The strategy was to minimize the approximation error only for the observed entries. That is, the optimization objective is $$\\min_{X,Y} || D - O \\circ (Y X^\\intercal) ||^2 = \\sum_{(i,k) \\in \\mathcal{O}} (D_{ik} - Y_{i.}X_{k.}^\\intercal)^2 \\text{ s.t. } X \\in \\mathbb{R}^{d \\times r},Y \\in \\mathbb{R}^{n \\times r}$$\n",
    "where the matrix $O \\in \\{0,1\\}^{n \\times d}$ indicates the observed entries and the set $\\mathcal{O} \\subseteq \\{1,...,n\\} \\times \\{1, ... , d\\}$ contains the indices of the observed entries in $D$. Note that the objective above is formulated a bit different from the one stated in the lecture. That is because we assume here that the matrix $D$ has an entry of zero if the corresponding value is missing. In this case, we have $D\\circ O=D$ ( $\\circ$ is the Hadamard multiplication, that is an element-wise multiplication of matrices) and we can write the objective to minimize subject to the observed entries as above. \n",
    "However, we have not discussed in detail how to optimize this objective. This will be done in this exercise.\n",
    "The idea is to apply block coordinate descent on the rows of the factor matrices of $X$ and $Y$. We can obtain the global minimizers of the objective with respect to one row of $X$ or $Y$ (fixing all other coordinates) by means of FONC. First, we compute the partial gradient of the objective with respect to coordinate $X_{ks}$:\n",
    "$$ \\frac{\\partial}{\\partial X_{ks}} \\sum_{(i,l) \\in \\mathcal{O}} (D_{il} - Y_{i.}X_{l.}^\\intercal)^2 = 2 \\sum_{(i,k) \\in \\mathcal{O}} (D_{ik} - Y_{i.} X_{k.}^\\intercal)(-Y_{is}) = -2 (D_{.k} - YX_{k.}^\\intercal)^\\intercal \\text{diag}(O_{.k})Y_{.s}$$\n",
    "The matrix $O_{Xk}=\\text{diag}(O_{\\cdot k})$  is the diagonal matrix that has the indicator vector of observed entries of feature $k$ on the diagonal. Therewith, we can denote the gradient with respect to one row of $X$ as follows:\n",
    "$$\\nabla_{X_{k.}} \\sum_{(i,l) \\in \\mathcal{O}} (D_{il} - Y_{i.}X_{l.}^\\intercal)^2 = -2 (D_{.k}^\\intercal - X_{k.}Y^\\intercal)O_{Xk}Y$$\n",
    "We compute now the stationary points of the gradient:\n",
    "$$-2 (D_{.k}^\\intercal - X_{k.}Y^\\intercal)_{.k}O_{Xk}Y = 0 \\iff D_{.k}^\\intercal Y (Y^\\intercal O_{Xk} Y)^{-1} = X_{k.}Y$$\n",
    "Now we have here a small problem, since the matrix $Y^\\intercal O_{k.} Y$ might not have an inverse. We have already seen how to alleviate this problem in the regression regularization lecture. Likewise, we add here a penalization term to the objective and obtain the penalized objective\n",
    "$$\\min_{X,Y} || D - O \\circ (Y X^\\intercal) ||^2 + \\lambda ||X||^2 + \\lambda ||Y||^2 \\text{ s.t. } X \\in \\mathbb{R}^{d \\times r}, Y \\in \\mathbb{R}^{n \\times r}$$\n",
    "The penalized objective has now well-defined stationary points $$D_{.k}^\\intercal Y (Y^\\intercal O_{Xk} Y + \\lambda I)^{-1} = X_{k.}$$\n",
    "Likewise, we can compute the minimizers of the objective for a row of $Y$, resulting in the following block-coordinate descent method for matrix completion.\n",
    "\n",
    "**function** MatrixCompletion($D,r,t_{max} = 100,\\lambda = 0.1$)\n",
    "1. $(X,Y) \\rightarrow$ InitRandom($n,d,r$)\n",
    "2. $O \\rightarrow$ IndicatorNonzero($D$)\n",
    "3. **for** $t = 1$ **to** $t_{max}$\n",
    "    1. **for** $k = 1$ **to** $d$\n",
    "        1. $O_{Xk} \\rightarrow$ diag($O_{1k}, ..., O_{nk}$)\n",
    "        2. $X_{k.} \\rightarrow D_{.k}^\\intercal Y (Y^\\intercal O_{Xk} Y + \\lambda I)^{-1}$\n",
    "    2. **for** $i = 1$ **to** $n$ \n",
    "        1. $O_{Yi} \\rightarrow$ diag($O_{i1}, ..., O_{id}$)\n",
    "        2. $Y_{i.} \\rightarrow D_{i.} X (X^\\intercal O_{Yi} X + \\lambda I)^{-1}$\n",
    "4. **return** $(X,Y)$\n",
    "\n",
    "In the [Canvas material for this exercise](HW2_2IIGO_24_25.ipynb) is a small movie-lens dataset. You will find predefined implementations in the accompanying notebook to create a data matrix $D$, reflecting a small subset of the users and movies. Unless stated otherwise, we use as default parameter setting $t_{max}=100,r=20,\\lambda=0.1$."
   ],
   "id": "ffb187e1d6a1a28c"
  },
  {
   "metadata": {},
   "cell_type": "markdown",
   "source": [
    "## 3a\n",
    "Implement the  MatrixCompletion function and apply it to the movielens\n",
    "data matrix $D$.\n",
    "What is the average squared approximation error on the observed entries after 100 iterations? Round your result here at least to three decimals. (Note: $|O|$ is the sum of ones in $O$)"
   ],
   "id": "fa88909040d96bbe"
  },
  {
   "metadata": {
    "ExecuteTime": {
     "end_time": "2025-01-09T10:23:23.400842Z",
     "start_time": "2025-01-09T10:23:22.873704Z"
    }
   },
   "cell_type": "code",
   "source": [
    "import numpy as np\n",
    "import pandas as pd"
   ],
   "id": "c1e6fee03523e964",
   "outputs": [],
   "execution_count": 1
  },
  {
   "metadata": {
    "ExecuteTime": {
     "end_time": "2025-01-09T10:23:23.409736Z",
     "start_time": "2025-01-09T10:23:23.404851Z"
    }
   },
   "cell_type": "code",
   "source": "print('The numpy version is {}.'.format(np.__version__))",
   "id": "79cd0c9f97381a7e",
   "outputs": [
    {
     "name": "stdout",
     "output_type": "stream",
     "text": [
      "The numpy version is 2.1.3.\n"
     ]
    }
   ],
   "execution_count": 2
  },
  {
   "metadata": {
    "ExecuteTime": {
     "end_time": "2025-01-09T10:23:23.615268Z",
     "start_time": "2025-01-09T10:23:23.606861Z"
    }
   },
   "cell_type": "code",
   "source": [
    "# Implementation of the MatrixCompletion function\n",
    "def matrix_completion(D, r = 20, t_max = 100, lmbda = 0.1):\n",
    "    # Get the dimensions of the data matrix D\n",
    "    n,d = D.shape\n",
    "    # Initialize the factor matrices X and Y with random values\n",
    "    np.random.seed(0)\n",
    "    X = np.random.normal(size =(d,r))\n",
    "    Y = np.random.normal(size =(n,r))\n",
    "    # Create the indicator matrix O for observed entries\n",
    "    O = np.where(D!=0,1,0)\n",
    "    for t in range(t_max):\n",
    "        # Update the rows of X\n",
    "        for k in range(d):\n",
    "            # Create the diagonal matrix O_Xk for the observed entries of column k\n",
    "            O_Xk = np.diag(O[:,k])\n",
    "            # Compute the matrix product Y^T O_Xk Y\n",
    "            Y_O_Xk_Y = np.dot(np.dot(Y.T,O_Xk),Y) + lmbda*np.eye(r)\n",
    "            # Update the k-th row of X\n",
    "            X[k,:] = np.dot(np.dot(D[:,k].T,Y),np.linalg.inv(Y_O_Xk_Y))\n",
    "        # Update the rows of Y    \n",
    "        for i in range(n):\n",
    "            # Create the diagonal matrix O_Yi for the observed entries of row i\n",
    "            O_Yi = np.diag(O[i,:])\n",
    "            # Compute the matrix product X^T O_Yi X\n",
    "            X_O_Yi_X = np.dot(np.dot(X.T,O_Yi),X) + lmbda*np.eye(r)\n",
    "            # Update the i-th row of Y\n",
    "            Y[i,:] = np.dot(np.dot(D[i,:],X),np.linalg.inv(X_O_Yi_X))\n",
    "    return X,Y"
   ],
   "id": "fe100b0165e8fc49",
   "outputs": [],
   "execution_count": 3
  },
  {
   "metadata": {
    "ExecuteTime": {
     "end_time": "2025-01-09T10:23:23.681169Z",
     "start_time": "2025-01-09T10:23:23.624260Z"
    }
   },
   "cell_type": "code",
   "source": [
    "# Load and explore the movie-lens data\n",
    "movies = pd.read_csv('ml-latest-small/movies.csv')\n",
    "ratings = pd.read_csv('ml-latest-small/ratings.csv')"
   ],
   "id": "56f3053171d16c5f",
   "outputs": [],
   "execution_count": 4
  },
  {
   "metadata": {
    "ExecuteTime": {
     "end_time": "2025-01-09T10:23:23.712598Z",
     "start_time": "2025-01-09T10:23:23.702065Z"
    }
   },
   "cell_type": "code",
   "source": "movies.head()",
   "id": "6f6bedb7022f6a8f",
   "outputs": [
    {
     "data": {
      "text/plain": [
       "   movieId                               title  \\\n",
       "0        1                    Toy Story (1995)   \n",
       "1        2                      Jumanji (1995)   \n",
       "2        3             Grumpier Old Men (1995)   \n",
       "3        4            Waiting to Exhale (1995)   \n",
       "4        5  Father of the Bride Part II (1995)   \n",
       "\n",
       "                                        genres  \n",
       "0  Adventure|Animation|Children|Comedy|Fantasy  \n",
       "1                   Adventure|Children|Fantasy  \n",
       "2                               Comedy|Romance  \n",
       "3                         Comedy|Drama|Romance  \n",
       "4                                       Comedy  "
      ],
      "text/html": [
       "<div>\n",
       "<style scoped>\n",
       "    .dataframe tbody tr th:only-of-type {\n",
       "        vertical-align: middle;\n",
       "    }\n",
       "\n",
       "    .dataframe tbody tr th {\n",
       "        vertical-align: top;\n",
       "    }\n",
       "\n",
       "    .dataframe thead th {\n",
       "        text-align: right;\n",
       "    }\n",
       "</style>\n",
       "<table border=\"1\" class=\"dataframe\">\n",
       "  <thead>\n",
       "    <tr style=\"text-align: right;\">\n",
       "      <th></th>\n",
       "      <th>movieId</th>\n",
       "      <th>title</th>\n",
       "      <th>genres</th>\n",
       "    </tr>\n",
       "  </thead>\n",
       "  <tbody>\n",
       "    <tr>\n",
       "      <th>0</th>\n",
       "      <td>1</td>\n",
       "      <td>Toy Story (1995)</td>\n",
       "      <td>Adventure|Animation|Children|Comedy|Fantasy</td>\n",
       "    </tr>\n",
       "    <tr>\n",
       "      <th>1</th>\n",
       "      <td>2</td>\n",
       "      <td>Jumanji (1995)</td>\n",
       "      <td>Adventure|Children|Fantasy</td>\n",
       "    </tr>\n",
       "    <tr>\n",
       "      <th>2</th>\n",
       "      <td>3</td>\n",
       "      <td>Grumpier Old Men (1995)</td>\n",
       "      <td>Comedy|Romance</td>\n",
       "    </tr>\n",
       "    <tr>\n",
       "      <th>3</th>\n",
       "      <td>4</td>\n",
       "      <td>Waiting to Exhale (1995)</td>\n",
       "      <td>Comedy|Drama|Romance</td>\n",
       "    </tr>\n",
       "    <tr>\n",
       "      <th>4</th>\n",
       "      <td>5</td>\n",
       "      <td>Father of the Bride Part II (1995)</td>\n",
       "      <td>Comedy</td>\n",
       "    </tr>\n",
       "  </tbody>\n",
       "</table>\n",
       "</div>"
      ]
     },
     "execution_count": 5,
     "metadata": {},
     "output_type": "execute_result"
    }
   ],
   "execution_count": 5
  },
  {
   "metadata": {
    "ExecuteTime": {
     "end_time": "2025-01-09T10:23:23.771490Z",
     "start_time": "2025-01-09T10:23:23.763482Z"
    }
   },
   "cell_type": "code",
   "source": "ratings.head()",
   "id": "2a3689ddd2160d5",
   "outputs": [
    {
     "data": {
      "text/plain": [
       "   userId  movieId  rating  timestamp\n",
       "0       1        1     4.0  964982703\n",
       "1       1        3     4.0  964981247\n",
       "2       1        6     4.0  964982224\n",
       "3       1       47     5.0  964983815\n",
       "4       1       50     5.0  964982931"
      ],
      "text/html": [
       "<div>\n",
       "<style scoped>\n",
       "    .dataframe tbody tr th:only-of-type {\n",
       "        vertical-align: middle;\n",
       "    }\n",
       "\n",
       "    .dataframe tbody tr th {\n",
       "        vertical-align: top;\n",
       "    }\n",
       "\n",
       "    .dataframe thead th {\n",
       "        text-align: right;\n",
       "    }\n",
       "</style>\n",
       "<table border=\"1\" class=\"dataframe\">\n",
       "  <thead>\n",
       "    <tr style=\"text-align: right;\">\n",
       "      <th></th>\n",
       "      <th>userId</th>\n",
       "      <th>movieId</th>\n",
       "      <th>rating</th>\n",
       "      <th>timestamp</th>\n",
       "    </tr>\n",
       "  </thead>\n",
       "  <tbody>\n",
       "    <tr>\n",
       "      <th>0</th>\n",
       "      <td>1</td>\n",
       "      <td>1</td>\n",
       "      <td>4.0</td>\n",
       "      <td>964982703</td>\n",
       "    </tr>\n",
       "    <tr>\n",
       "      <th>1</th>\n",
       "      <td>1</td>\n",
       "      <td>3</td>\n",
       "      <td>4.0</td>\n",
       "      <td>964981247</td>\n",
       "    </tr>\n",
       "    <tr>\n",
       "      <th>2</th>\n",
       "      <td>1</td>\n",
       "      <td>6</td>\n",
       "      <td>4.0</td>\n",
       "      <td>964982224</td>\n",
       "    </tr>\n",
       "    <tr>\n",
       "      <th>3</th>\n",
       "      <td>1</td>\n",
       "      <td>47</td>\n",
       "      <td>5.0</td>\n",
       "      <td>964983815</td>\n",
       "    </tr>\n",
       "    <tr>\n",
       "      <th>4</th>\n",
       "      <td>1</td>\n",
       "      <td>50</td>\n",
       "      <td>5.0</td>\n",
       "      <td>964982931</td>\n",
       "    </tr>\n",
       "  </tbody>\n",
       "</table>\n",
       "</div>"
      ]
     },
     "execution_count": 6,
     "metadata": {},
     "output_type": "execute_result"
    }
   ],
   "execution_count": 6
  },
  {
   "metadata": {
    "ExecuteTime": {
     "end_time": "2025-01-09T10:23:23.918844Z",
     "start_time": "2025-01-09T10:23:23.807853Z"
    }
   },
   "cell_type": "code",
   "source": [
    "# Create the data matrix D\n",
    "df_movie_ratings = ratings.pivot(\n",
    "    index='userId',\n",
    "    columns='movieId',\n",
    "    values='rating'\n",
    ").fillna(0)  #fill unobserved entries with μ"
   ],
   "id": "c72e70f786e66892",
   "outputs": [],
   "execution_count": 7
  },
  {
   "metadata": {
    "ExecuteTime": {
     "end_time": "2025-01-09T10:23:24.018984Z",
     "start_time": "2025-01-09T10:23:23.980253Z"
    }
   },
   "cell_type": "code",
   "source": [
    "# Only keep movies that have been rated by at least 100 users\n",
    "keep_movie = np.sum(df_movie_ratings!=0,0)>100\n",
    "df_D = df_movie_ratings.loc[:,keep_movie]\n",
    "df_D.head()"
   ],
   "id": "b252d36861b6acdc",
   "outputs": [
    {
     "data": {
      "text/plain": [
       "movieId  1      2      6      10     32     34     39     47     50     110    \\\n",
       "userId                                                                          \n",
       "1          4.0    0.0    4.0    0.0    0.0    0.0    0.0    5.0    5.0    4.0   \n",
       "2          0.0    0.0    0.0    0.0    0.0    0.0    0.0    0.0    0.0    0.0   \n",
       "3          0.0    0.0    0.0    0.0    0.0    0.0    0.0    0.0    0.0    0.0   \n",
       "4          0.0    0.0    0.0    0.0    2.0    0.0    0.0    2.0    0.0    0.0   \n",
       "5          4.0    0.0    0.0    0.0    0.0    4.0    3.0    0.0    4.0    4.0   \n",
       "\n",
       "movieId  ...  7153   7361   7438   8961   33794  48516  58559  60069  68954  \\\n",
       "userId   ...                                                                  \n",
       "1        ...    0.0    0.0    0.0    0.0    0.0    0.0    0.0    0.0    0.0   \n",
       "2        ...    0.0    0.0    0.0    0.0    0.0    4.0    4.5    0.0    0.0   \n",
       "3        ...    0.0    0.0    0.0    0.0    0.0    0.0    0.0    0.0    0.0   \n",
       "4        ...    0.0    0.0    0.0    0.0    0.0    0.0    0.0    0.0    0.0   \n",
       "5        ...    0.0    0.0    0.0    0.0    0.0    0.0    0.0    0.0    0.0   \n",
       "\n",
       "movieId  79132  \n",
       "userId          \n",
       "1          0.0  \n",
       "2          4.0  \n",
       "3          0.0  \n",
       "4          0.0  \n",
       "5          0.0  \n",
       "\n",
       "[5 rows x 134 columns]"
      ],
      "text/html": [
       "<div>\n",
       "<style scoped>\n",
       "    .dataframe tbody tr th:only-of-type {\n",
       "        vertical-align: middle;\n",
       "    }\n",
       "\n",
       "    .dataframe tbody tr th {\n",
       "        vertical-align: top;\n",
       "    }\n",
       "\n",
       "    .dataframe thead th {\n",
       "        text-align: right;\n",
       "    }\n",
       "</style>\n",
       "<table border=\"1\" class=\"dataframe\">\n",
       "  <thead>\n",
       "    <tr style=\"text-align: right;\">\n",
       "      <th>movieId</th>\n",
       "      <th>1</th>\n",
       "      <th>2</th>\n",
       "      <th>6</th>\n",
       "      <th>10</th>\n",
       "      <th>32</th>\n",
       "      <th>34</th>\n",
       "      <th>39</th>\n",
       "      <th>47</th>\n",
       "      <th>50</th>\n",
       "      <th>110</th>\n",
       "      <th>...</th>\n",
       "      <th>7153</th>\n",
       "      <th>7361</th>\n",
       "      <th>7438</th>\n",
       "      <th>8961</th>\n",
       "      <th>33794</th>\n",
       "      <th>48516</th>\n",
       "      <th>58559</th>\n",
       "      <th>60069</th>\n",
       "      <th>68954</th>\n",
       "      <th>79132</th>\n",
       "    </tr>\n",
       "    <tr>\n",
       "      <th>userId</th>\n",
       "      <th></th>\n",
       "      <th></th>\n",
       "      <th></th>\n",
       "      <th></th>\n",
       "      <th></th>\n",
       "      <th></th>\n",
       "      <th></th>\n",
       "      <th></th>\n",
       "      <th></th>\n",
       "      <th></th>\n",
       "      <th></th>\n",
       "      <th></th>\n",
       "      <th></th>\n",
       "      <th></th>\n",
       "      <th></th>\n",
       "      <th></th>\n",
       "      <th></th>\n",
       "      <th></th>\n",
       "      <th></th>\n",
       "      <th></th>\n",
       "      <th></th>\n",
       "    </tr>\n",
       "  </thead>\n",
       "  <tbody>\n",
       "    <tr>\n",
       "      <th>1</th>\n",
       "      <td>4.0</td>\n",
       "      <td>0.0</td>\n",
       "      <td>4.0</td>\n",
       "      <td>0.0</td>\n",
       "      <td>0.0</td>\n",
       "      <td>0.0</td>\n",
       "      <td>0.0</td>\n",
       "      <td>5.0</td>\n",
       "      <td>5.0</td>\n",
       "      <td>4.0</td>\n",
       "      <td>...</td>\n",
       "      <td>0.0</td>\n",
       "      <td>0.0</td>\n",
       "      <td>0.0</td>\n",
       "      <td>0.0</td>\n",
       "      <td>0.0</td>\n",
       "      <td>0.0</td>\n",
       "      <td>0.0</td>\n",
       "      <td>0.0</td>\n",
       "      <td>0.0</td>\n",
       "      <td>0.0</td>\n",
       "    </tr>\n",
       "    <tr>\n",
       "      <th>2</th>\n",
       "      <td>0.0</td>\n",
       "      <td>0.0</td>\n",
       "      <td>0.0</td>\n",
       "      <td>0.0</td>\n",
       "      <td>0.0</td>\n",
       "      <td>0.0</td>\n",
       "      <td>0.0</td>\n",
       "      <td>0.0</td>\n",
       "      <td>0.0</td>\n",
       "      <td>0.0</td>\n",
       "      <td>...</td>\n",
       "      <td>0.0</td>\n",
       "      <td>0.0</td>\n",
       "      <td>0.0</td>\n",
       "      <td>0.0</td>\n",
       "      <td>0.0</td>\n",
       "      <td>4.0</td>\n",
       "      <td>4.5</td>\n",
       "      <td>0.0</td>\n",
       "      <td>0.0</td>\n",
       "      <td>4.0</td>\n",
       "    </tr>\n",
       "    <tr>\n",
       "      <th>3</th>\n",
       "      <td>0.0</td>\n",
       "      <td>0.0</td>\n",
       "      <td>0.0</td>\n",
       "      <td>0.0</td>\n",
       "      <td>0.0</td>\n",
       "      <td>0.0</td>\n",
       "      <td>0.0</td>\n",
       "      <td>0.0</td>\n",
       "      <td>0.0</td>\n",
       "      <td>0.0</td>\n",
       "      <td>...</td>\n",
       "      <td>0.0</td>\n",
       "      <td>0.0</td>\n",
       "      <td>0.0</td>\n",
       "      <td>0.0</td>\n",
       "      <td>0.0</td>\n",
       "      <td>0.0</td>\n",
       "      <td>0.0</td>\n",
       "      <td>0.0</td>\n",
       "      <td>0.0</td>\n",
       "      <td>0.0</td>\n",
       "    </tr>\n",
       "    <tr>\n",
       "      <th>4</th>\n",
       "      <td>0.0</td>\n",
       "      <td>0.0</td>\n",
       "      <td>0.0</td>\n",
       "      <td>0.0</td>\n",
       "      <td>2.0</td>\n",
       "      <td>0.0</td>\n",
       "      <td>0.0</td>\n",
       "      <td>2.0</td>\n",
       "      <td>0.0</td>\n",
       "      <td>0.0</td>\n",
       "      <td>...</td>\n",
       "      <td>0.0</td>\n",
       "      <td>0.0</td>\n",
       "      <td>0.0</td>\n",
       "      <td>0.0</td>\n",
       "      <td>0.0</td>\n",
       "      <td>0.0</td>\n",
       "      <td>0.0</td>\n",
       "      <td>0.0</td>\n",
       "      <td>0.0</td>\n",
       "      <td>0.0</td>\n",
       "    </tr>\n",
       "    <tr>\n",
       "      <th>5</th>\n",
       "      <td>4.0</td>\n",
       "      <td>0.0</td>\n",
       "      <td>0.0</td>\n",
       "      <td>0.0</td>\n",
       "      <td>0.0</td>\n",
       "      <td>4.0</td>\n",
       "      <td>3.0</td>\n",
       "      <td>0.0</td>\n",
       "      <td>4.0</td>\n",
       "      <td>4.0</td>\n",
       "      <td>...</td>\n",
       "      <td>0.0</td>\n",
       "      <td>0.0</td>\n",
       "      <td>0.0</td>\n",
       "      <td>0.0</td>\n",
       "      <td>0.0</td>\n",
       "      <td>0.0</td>\n",
       "      <td>0.0</td>\n",
       "      <td>0.0</td>\n",
       "      <td>0.0</td>\n",
       "      <td>0.0</td>\n",
       "    </tr>\n",
       "  </tbody>\n",
       "</table>\n",
       "<p>5 rows × 134 columns</p>\n",
       "</div>"
      ]
     },
     "execution_count": 8,
     "metadata": {},
     "output_type": "execute_result"
    }
   ],
   "execution_count": 8
  },
  {
   "metadata": {
    "ExecuteTime": {
     "end_time": "2025-01-09T10:23:24.106779Z",
     "start_time": "2025-01-09T10:23:24.086994Z"
    }
   },
   "cell_type": "code",
   "source": [
    "# Only keep users that have rated at least 5 movies\n",
    "keep_user = np.sum(df_D!=0,1)>5\n",
    "df_D = df_D.loc[keep_user,:]\n",
    "df_D.head()"
   ],
   "id": "9a92123ecd0b950a",
   "outputs": [
    {
     "data": {
      "text/plain": [
       "movieId  1      2      6      10     32     34     39     47     50     110    \\\n",
       "userId                                                                          \n",
       "1          4.0    0.0    4.0    0.0    0.0    0.0    0.0    5.0    5.0    4.0   \n",
       "2          0.0    0.0    0.0    0.0    0.0    0.0    0.0    0.0    0.0    0.0   \n",
       "4          0.0    0.0    0.0    0.0    2.0    0.0    0.0    2.0    0.0    0.0   \n",
       "5          4.0    0.0    0.0    0.0    0.0    4.0    3.0    0.0    4.0    4.0   \n",
       "6          0.0    4.0    4.0    3.0    4.0    4.0    0.0    4.0    1.0    5.0   \n",
       "\n",
       "movieId  ...  7153   7361   7438   8961   33794  48516  58559  60069  68954  \\\n",
       "userId   ...                                                                  \n",
       "1        ...    0.0    0.0    0.0    0.0    0.0    0.0    0.0    0.0    0.0   \n",
       "2        ...    0.0    0.0    0.0    0.0    0.0    4.0    4.5    0.0    0.0   \n",
       "4        ...    0.0    0.0    0.0    0.0    0.0    0.0    0.0    0.0    0.0   \n",
       "5        ...    0.0    0.0    0.0    0.0    0.0    0.0    0.0    0.0    0.0   \n",
       "6        ...    0.0    0.0    0.0    0.0    0.0    0.0    0.0    0.0    0.0   \n",
       "\n",
       "movieId  79132  \n",
       "userId          \n",
       "1          0.0  \n",
       "2          4.0  \n",
       "4          0.0  \n",
       "5          0.0  \n",
       "6          0.0  \n",
       "\n",
       "[5 rows x 134 columns]"
      ],
      "text/html": [
       "<div>\n",
       "<style scoped>\n",
       "    .dataframe tbody tr th:only-of-type {\n",
       "        vertical-align: middle;\n",
       "    }\n",
       "\n",
       "    .dataframe tbody tr th {\n",
       "        vertical-align: top;\n",
       "    }\n",
       "\n",
       "    .dataframe thead th {\n",
       "        text-align: right;\n",
       "    }\n",
       "</style>\n",
       "<table border=\"1\" class=\"dataframe\">\n",
       "  <thead>\n",
       "    <tr style=\"text-align: right;\">\n",
       "      <th>movieId</th>\n",
       "      <th>1</th>\n",
       "      <th>2</th>\n",
       "      <th>6</th>\n",
       "      <th>10</th>\n",
       "      <th>32</th>\n",
       "      <th>34</th>\n",
       "      <th>39</th>\n",
       "      <th>47</th>\n",
       "      <th>50</th>\n",
       "      <th>110</th>\n",
       "      <th>...</th>\n",
       "      <th>7153</th>\n",
       "      <th>7361</th>\n",
       "      <th>7438</th>\n",
       "      <th>8961</th>\n",
       "      <th>33794</th>\n",
       "      <th>48516</th>\n",
       "      <th>58559</th>\n",
       "      <th>60069</th>\n",
       "      <th>68954</th>\n",
       "      <th>79132</th>\n",
       "    </tr>\n",
       "    <tr>\n",
       "      <th>userId</th>\n",
       "      <th></th>\n",
       "      <th></th>\n",
       "      <th></th>\n",
       "      <th></th>\n",
       "      <th></th>\n",
       "      <th></th>\n",
       "      <th></th>\n",
       "      <th></th>\n",
       "      <th></th>\n",
       "      <th></th>\n",
       "      <th></th>\n",
       "      <th></th>\n",
       "      <th></th>\n",
       "      <th></th>\n",
       "      <th></th>\n",
       "      <th></th>\n",
       "      <th></th>\n",
       "      <th></th>\n",
       "      <th></th>\n",
       "      <th></th>\n",
       "      <th></th>\n",
       "    </tr>\n",
       "  </thead>\n",
       "  <tbody>\n",
       "    <tr>\n",
       "      <th>1</th>\n",
       "      <td>4.0</td>\n",
       "      <td>0.0</td>\n",
       "      <td>4.0</td>\n",
       "      <td>0.0</td>\n",
       "      <td>0.0</td>\n",
       "      <td>0.0</td>\n",
       "      <td>0.0</td>\n",
       "      <td>5.0</td>\n",
       "      <td>5.0</td>\n",
       "      <td>4.0</td>\n",
       "      <td>...</td>\n",
       "      <td>0.0</td>\n",
       "      <td>0.0</td>\n",
       "      <td>0.0</td>\n",
       "      <td>0.0</td>\n",
       "      <td>0.0</td>\n",
       "      <td>0.0</td>\n",
       "      <td>0.0</td>\n",
       "      <td>0.0</td>\n",
       "      <td>0.0</td>\n",
       "      <td>0.0</td>\n",
       "    </tr>\n",
       "    <tr>\n",
       "      <th>2</th>\n",
       "      <td>0.0</td>\n",
       "      <td>0.0</td>\n",
       "      <td>0.0</td>\n",
       "      <td>0.0</td>\n",
       "      <td>0.0</td>\n",
       "      <td>0.0</td>\n",
       "      <td>0.0</td>\n",
       "      <td>0.0</td>\n",
       "      <td>0.0</td>\n",
       "      <td>0.0</td>\n",
       "      <td>...</td>\n",
       "      <td>0.0</td>\n",
       "      <td>0.0</td>\n",
       "      <td>0.0</td>\n",
       "      <td>0.0</td>\n",
       "      <td>0.0</td>\n",
       "      <td>4.0</td>\n",
       "      <td>4.5</td>\n",
       "      <td>0.0</td>\n",
       "      <td>0.0</td>\n",
       "      <td>4.0</td>\n",
       "    </tr>\n",
       "    <tr>\n",
       "      <th>4</th>\n",
       "      <td>0.0</td>\n",
       "      <td>0.0</td>\n",
       "      <td>0.0</td>\n",
       "      <td>0.0</td>\n",
       "      <td>2.0</td>\n",
       "      <td>0.0</td>\n",
       "      <td>0.0</td>\n",
       "      <td>2.0</td>\n",
       "      <td>0.0</td>\n",
       "      <td>0.0</td>\n",
       "      <td>...</td>\n",
       "      <td>0.0</td>\n",
       "      <td>0.0</td>\n",
       "      <td>0.0</td>\n",
       "      <td>0.0</td>\n",
       "      <td>0.0</td>\n",
       "      <td>0.0</td>\n",
       "      <td>0.0</td>\n",
       "      <td>0.0</td>\n",
       "      <td>0.0</td>\n",
       "      <td>0.0</td>\n",
       "    </tr>\n",
       "    <tr>\n",
       "      <th>5</th>\n",
       "      <td>4.0</td>\n",
       "      <td>0.0</td>\n",
       "      <td>0.0</td>\n",
       "      <td>0.0</td>\n",
       "      <td>0.0</td>\n",
       "      <td>4.0</td>\n",
       "      <td>3.0</td>\n",
       "      <td>0.0</td>\n",
       "      <td>4.0</td>\n",
       "      <td>4.0</td>\n",
       "      <td>...</td>\n",
       "      <td>0.0</td>\n",
       "      <td>0.0</td>\n",
       "      <td>0.0</td>\n",
       "      <td>0.0</td>\n",
       "      <td>0.0</td>\n",
       "      <td>0.0</td>\n",
       "      <td>0.0</td>\n",
       "      <td>0.0</td>\n",
       "      <td>0.0</td>\n",
       "      <td>0.0</td>\n",
       "    </tr>\n",
       "    <tr>\n",
       "      <th>6</th>\n",
       "      <td>0.0</td>\n",
       "      <td>4.0</td>\n",
       "      <td>4.0</td>\n",
       "      <td>3.0</td>\n",
       "      <td>4.0</td>\n",
       "      <td>4.0</td>\n",
       "      <td>0.0</td>\n",
       "      <td>4.0</td>\n",
       "      <td>1.0</td>\n",
       "      <td>5.0</td>\n",
       "      <td>...</td>\n",
       "      <td>0.0</td>\n",
       "      <td>0.0</td>\n",
       "      <td>0.0</td>\n",
       "      <td>0.0</td>\n",
       "      <td>0.0</td>\n",
       "      <td>0.0</td>\n",
       "      <td>0.0</td>\n",
       "      <td>0.0</td>\n",
       "      <td>0.0</td>\n",
       "      <td>0.0</td>\n",
       "    </tr>\n",
       "  </tbody>\n",
       "</table>\n",
       "<p>5 rows × 134 columns</p>\n",
       "</div>"
      ]
     },
     "execution_count": 9,
     "metadata": {},
     "output_type": "execute_result"
    }
   ],
   "execution_count": 9
  },
  {
   "metadata": {
    "ExecuteTime": {
     "end_time": "2025-01-09T10:23:24.333937Z",
     "start_time": "2025-01-09T10:23:24.324379Z"
    }
   },
   "cell_type": "code",
   "source": [
    "# Movie number - title mapping\n",
    "movies.loc[movies['movieId'].isin(df_D.columns)]"
   ],
   "id": "fbfc32eda6cc08c8",
   "outputs": [
    {
     "data": {
      "text/plain": [
       "      movieId                                      title  \\\n",
       "0           1                           Toy Story (1995)   \n",
       "1           2                             Jumanji (1995)   \n",
       "5           6                                Heat (1995)   \n",
       "9          10                           GoldenEye (1995)   \n",
       "31         32  Twelve Monkeys (a.k.a. 12 Monkeys) (1995)   \n",
       "...       ...                                        ...   \n",
       "6315    48516                       Departed, The (2006)   \n",
       "6710    58559                    Dark Knight, The (2008)   \n",
       "6772    60069                              WALL·E (2008)   \n",
       "7039    68954                                  Up (2009)   \n",
       "7372    79132                           Inception (2010)   \n",
       "\n",
       "                                               genres  \n",
       "0         Adventure|Animation|Children|Comedy|Fantasy  \n",
       "1                          Adventure|Children|Fantasy  \n",
       "5                               Action|Crime|Thriller  \n",
       "9                           Action|Adventure|Thriller  \n",
       "31                            Mystery|Sci-Fi|Thriller  \n",
       "...                                               ...  \n",
       "6315                             Crime|Drama|Thriller  \n",
       "6710                          Action|Crime|Drama|IMAX  \n",
       "6772      Adventure|Animation|Children|Romance|Sci-Fi  \n",
       "7039               Adventure|Animation|Children|Drama  \n",
       "7372  Action|Crime|Drama|Mystery|Sci-Fi|Thriller|IMAX  \n",
       "\n",
       "[134 rows x 3 columns]"
      ],
      "text/html": [
       "<div>\n",
       "<style scoped>\n",
       "    .dataframe tbody tr th:only-of-type {\n",
       "        vertical-align: middle;\n",
       "    }\n",
       "\n",
       "    .dataframe tbody tr th {\n",
       "        vertical-align: top;\n",
       "    }\n",
       "\n",
       "    .dataframe thead th {\n",
       "        text-align: right;\n",
       "    }\n",
       "</style>\n",
       "<table border=\"1\" class=\"dataframe\">\n",
       "  <thead>\n",
       "    <tr style=\"text-align: right;\">\n",
       "      <th></th>\n",
       "      <th>movieId</th>\n",
       "      <th>title</th>\n",
       "      <th>genres</th>\n",
       "    </tr>\n",
       "  </thead>\n",
       "  <tbody>\n",
       "    <tr>\n",
       "      <th>0</th>\n",
       "      <td>1</td>\n",
       "      <td>Toy Story (1995)</td>\n",
       "      <td>Adventure|Animation|Children|Comedy|Fantasy</td>\n",
       "    </tr>\n",
       "    <tr>\n",
       "      <th>1</th>\n",
       "      <td>2</td>\n",
       "      <td>Jumanji (1995)</td>\n",
       "      <td>Adventure|Children|Fantasy</td>\n",
       "    </tr>\n",
       "    <tr>\n",
       "      <th>5</th>\n",
       "      <td>6</td>\n",
       "      <td>Heat (1995)</td>\n",
       "      <td>Action|Crime|Thriller</td>\n",
       "    </tr>\n",
       "    <tr>\n",
       "      <th>9</th>\n",
       "      <td>10</td>\n",
       "      <td>GoldenEye (1995)</td>\n",
       "      <td>Action|Adventure|Thriller</td>\n",
       "    </tr>\n",
       "    <tr>\n",
       "      <th>31</th>\n",
       "      <td>32</td>\n",
       "      <td>Twelve Monkeys (a.k.a. 12 Monkeys) (1995)</td>\n",
       "      <td>Mystery|Sci-Fi|Thriller</td>\n",
       "    </tr>\n",
       "    <tr>\n",
       "      <th>...</th>\n",
       "      <td>...</td>\n",
       "      <td>...</td>\n",
       "      <td>...</td>\n",
       "    </tr>\n",
       "    <tr>\n",
       "      <th>6315</th>\n",
       "      <td>48516</td>\n",
       "      <td>Departed, The (2006)</td>\n",
       "      <td>Crime|Drama|Thriller</td>\n",
       "    </tr>\n",
       "    <tr>\n",
       "      <th>6710</th>\n",
       "      <td>58559</td>\n",
       "      <td>Dark Knight, The (2008)</td>\n",
       "      <td>Action|Crime|Drama|IMAX</td>\n",
       "    </tr>\n",
       "    <tr>\n",
       "      <th>6772</th>\n",
       "      <td>60069</td>\n",
       "      <td>WALL·E (2008)</td>\n",
       "      <td>Adventure|Animation|Children|Romance|Sci-Fi</td>\n",
       "    </tr>\n",
       "    <tr>\n",
       "      <th>7039</th>\n",
       "      <td>68954</td>\n",
       "      <td>Up (2009)</td>\n",
       "      <td>Adventure|Animation|Children|Drama</td>\n",
       "    </tr>\n",
       "    <tr>\n",
       "      <th>7372</th>\n",
       "      <td>79132</td>\n",
       "      <td>Inception (2010)</td>\n",
       "      <td>Action|Crime|Drama|Mystery|Sci-Fi|Thriller|IMAX</td>\n",
       "    </tr>\n",
       "  </tbody>\n",
       "</table>\n",
       "<p>134 rows × 3 columns</p>\n",
       "</div>"
      ]
     },
     "execution_count": 10,
     "metadata": {},
     "output_type": "execute_result"
    }
   ],
   "execution_count": 10
  },
  {
   "metadata": {
    "ExecuteTime": {
     "end_time": "2025-01-09T10:23:24.549899Z",
     "start_time": "2025-01-09T10:23:24.543948Z"
    }
   },
   "cell_type": "code",
   "source": [
    "# Convert the dataframe to a data matrix\n",
    "D = df_D.to_numpy()\n",
    "D.shape"
   ],
   "id": "c83f5ba2a53bfcde",
   "outputs": [
    {
     "data": {
      "text/plain": [
       "(547, 134)"
      ]
     },
     "execution_count": 11,
     "metadata": {},
     "output_type": "execute_result"
    }
   ],
   "execution_count": 11
  },
  {
   "metadata": {
    "ExecuteTime": {
     "end_time": "2025-01-09T10:23:42.533033Z",
     "start_time": "2025-01-09T10:23:24.820787Z"
    }
   },
   "cell_type": "code",
   "source": [
    "# Apply the matrix completion function\n",
    "X,Y = matrix_completion(D)"
   ],
   "id": "dcc9c07d93ebd22e",
   "outputs": [],
   "execution_count": 12
  },
  {
   "metadata": {},
   "cell_type": "markdown",
   "source": [
    "Average squared approximation error on the observed entries after 100 iterations: $$\\frac{1}{|O|} || D - O \\circ (Y X^\\intercal) ||^2$$\n",
    "Note that $|O|$ is the sum of ones in the indicator matrix $O$."
   ],
   "id": "a5f69d41cfbbc4c4"
  },
  {
   "metadata": {
    "ExecuteTime": {
     "end_time": "2025-01-09T10:23:42.548468Z",
     "start_time": "2025-01-09T10:23:42.540044Z"
    }
   },
   "cell_type": "code",
   "source": [
    "# Compute the average squared approximation error on the observed entries\n",
    "O = np.where(D!=0,1,0)\n",
    "error = np.linalg.norm((D - O*(np.dot(Y,X.T))))**2/np.sum(O)\n",
    "error"
   ],
   "id": "fbd5fe69dae1b8e5",
   "outputs": [
    {
     "data": {
      "text/plain": [
       "np.float64(0.09442193783208083)"
      ]
     },
     "execution_count": 13,
     "metadata": {},
     "output_type": "execute_result"
    }
   ],
   "execution_count": 13
  },
  {
   "metadata": {},
   "cell_type": "markdown",
   "source": [
    "Indicate, for the following movies, the estimated rating of the first user.\n",
    "* Finding Nemo (2003)\n",
    "* Dark Knight, The (2008)\n",
    "* Clueless (1995)\n",
    "* 2001: A Space Odyssey (1968)"
   ],
   "id": "163e9299566ecd66"
  },
  {
   "metadata": {
    "ExecuteTime": {
     "end_time": "2025-01-09T10:23:42.587271Z",
     "start_time": "2025-01-09T10:23:42.578241Z"
    }
   },
   "cell_type": "code",
   "source": [
    "# Movie titles\n",
    "movie_titles = movies.set_index('movieId')['title']\n",
    "# find the movie ids from the titles\n",
    "movie_ids = movie_titles[movie_titles.isin(['Finding Nemo (2003)',\n",
    "                                             'Dark Knight, The (2008)',\n",
    "                                             'Clueless (1995)',\n",
    "                                             '2001: A Space Odyssey (1968)'])].index\n",
    "# Print the movie ids and corresponding titles\n",
    "movie_titles[movie_ids]"
   ],
   "id": "30c147b71eb4b40e",
   "outputs": [
    {
     "data": {
      "text/plain": [
       "movieId\n",
       "39                    Clueless (1995)\n",
       "924      2001: A Space Odyssey (1968)\n",
       "6377              Finding Nemo (2003)\n",
       "58559         Dark Knight, The (2008)\n",
       "Name: title, dtype: object"
      ]
     },
     "execution_count": 14,
     "metadata": {},
     "output_type": "execute_result"
    }
   ],
   "execution_count": 14
  },
  {
   "metadata": {
    "ExecuteTime": {
     "end_time": "2025-01-09T10:23:42.655807Z",
     "start_time": "2025-01-09T10:23:42.650717Z"
    }
   },
   "cell_type": "code",
   "source": [
    "# Find the movie indices in the data matrix D\n",
    "movie_indices = [np.where(df_D.columns==movie_id)[0][0] for movie_id in movie_ids]\n",
    "movie_indices"
   ],
   "id": "f04a43276ead2a7b",
   "outputs": [
    {
     "data": {
      "text/plain": [
       "[np.int64(6), np.int64(59), np.int64(121), np.int64(130)]"
      ]
     },
     "execution_count": 15,
     "metadata": {},
     "output_type": "execute_result"
    }
   ],
   "execution_count": 15
  },
  {
   "metadata": {
    "ExecuteTime": {
     "end_time": "2025-01-09T10:23:42.762081Z",
     "start_time": "2025-01-09T10:23:42.756095Z"
    }
   },
   "cell_type": "code",
   "source": [
    "# Find the estimated ratings of the first user for the selected movies\n",
    "user_id = 0\n",
    "ratings = np.dot(Y[user_id,:],X.T)\n",
    "ratings[movie_indices]"
   ],
   "id": "7d96fd4dc51be2a1",
   "outputs": [
    {
     "data": {
      "text/plain": [
       "array([2.54167054, 4.31375458, 6.07512752, 6.45951606])"
      ]
     },
     "execution_count": 16,
     "metadata": {},
     "output_type": "execute_result"
    }
   ],
   "execution_count": 16
  },
  {
   "metadata": {
    "ExecuteTime": {
     "end_time": "2025-01-09T10:23:42.900231Z",
     "start_time": "2025-01-09T10:23:42.892555Z"
    }
   },
   "cell_type": "code",
   "source": [
    "# Print the estimated ratings and corresponding movie titles\n",
    "movie_titles[movie_ids].reset_index(drop=True).to_frame().assign(rating = ratings[movie_indices])"
   ],
   "id": "39a7ce0dd4524596",
   "outputs": [
    {
     "data": {
      "text/plain": [
       "                          title    rating\n",
       "0               Clueless (1995)  2.541671\n",
       "1  2001: A Space Odyssey (1968)  4.313755\n",
       "2           Finding Nemo (2003)  6.075128\n",
       "3       Dark Knight, The (2008)  6.459516"
      ],
      "text/html": [
       "<div>\n",
       "<style scoped>\n",
       "    .dataframe tbody tr th:only-of-type {\n",
       "        vertical-align: middle;\n",
       "    }\n",
       "\n",
       "    .dataframe tbody tr th {\n",
       "        vertical-align: top;\n",
       "    }\n",
       "\n",
       "    .dataframe thead th {\n",
       "        text-align: right;\n",
       "    }\n",
       "</style>\n",
       "<table border=\"1\" class=\"dataframe\">\n",
       "  <thead>\n",
       "    <tr style=\"text-align: right;\">\n",
       "      <th></th>\n",
       "      <th>title</th>\n",
       "      <th>rating</th>\n",
       "    </tr>\n",
       "  </thead>\n",
       "  <tbody>\n",
       "    <tr>\n",
       "      <th>0</th>\n",
       "      <td>Clueless (1995)</td>\n",
       "      <td>2.541671</td>\n",
       "    </tr>\n",
       "    <tr>\n",
       "      <th>1</th>\n",
       "      <td>2001: A Space Odyssey (1968)</td>\n",
       "      <td>4.313755</td>\n",
       "    </tr>\n",
       "    <tr>\n",
       "      <th>2</th>\n",
       "      <td>Finding Nemo (2003)</td>\n",
       "      <td>6.075128</td>\n",
       "    </tr>\n",
       "    <tr>\n",
       "      <th>3</th>\n",
       "      <td>Dark Knight, The (2008)</td>\n",
       "      <td>6.459516</td>\n",
       "    </tr>\n",
       "  </tbody>\n",
       "</table>\n",
       "</div>"
      ]
     },
     "execution_count": 17,
     "metadata": {},
     "output_type": "execute_result"
    }
   ],
   "execution_count": 17
  },
  {
   "metadata": {},
   "cell_type": "markdown",
   "source": [
    "## 3b\n",
    "Vary the value of the penalization parameter $\\lambda \\in \\{0.01, 0.1, 0.5 \\}$. Which effects do you observe?\n",
    "- The higher $\\lambda$ is, the lower the mean of the missing value imputations ($Y X^\\intercal$ at the position where $O=0$) becomes.\n",
    "- The higher $\\lambda$ is, the lower the variance of the missing value imputations ($Y X^\\intercal$ at the position where $O=0$) becomes.\n",
    "- The higher $\\lambda$ is, the fewer missing value imputations ($Y X^\\intercal$ at the position where $O=0$) are outside the original range of ratings ($[0.5,5]$).\n",
    "- The higher $\\lambda$ is, the higher the approximation error $||D - O \\circ (Y X^\\intercal)||^2$ is."
   ],
   "id": "e8a2384e8e0097e2"
  },
  {
   "metadata": {
    "ExecuteTime": {
     "end_time": "2025-01-09T10:24:36.976714Z",
     "start_time": "2025-01-09T10:23:43.028621Z"
    }
   },
   "cell_type": "code",
   "source": [
    "# Compute the mean of the missing value imputations for different values of lambda\n",
    "lambdas = [0.01,0.1,0.5]\n",
    "means = []\n",
    "for lmbda in lambdas:\n",
    "    X,Y = matrix_completion(D,lmbda=lmbda)\n",
    "    O = np.where(D!=0,1,0)\n",
    "    # mean of the missing value imputations\n",
    "    mean = np.sum((1-O)*(np.dot(Y,X.T)))/np.sum(1-O)\n",
    "    means.append(mean)\n",
    "means"
   ],
   "id": "e1db69b19f18be9d",
   "outputs": [
    {
     "data": {
      "text/plain": [
       "[np.float64(3.3122244218026737),\n",
       " np.float64(3.034433215379759),\n",
       " np.float64(3.3269037928259566)]"
      ]
     },
     "execution_count": 18,
     "metadata": {},
     "output_type": "execute_result"
    }
   ],
   "execution_count": 18
  },
  {
   "metadata": {
    "ExecuteTime": {
     "end_time": "2025-01-09T10:25:27.133970Z",
     "start_time": "2025-01-09T10:24:37.008481Z"
    }
   },
   "cell_type": "code",
   "source": [
    "# Compute the variance of the missing value imputations for different values of lambda\n",
    "variances = []\n",
    "for lmbda in lambdas:\n",
    "    X,Y = matrix_completion(D,lmbda=lmbda)\n",
    "    O = np.where(D!=0,1,0)\n",
    "    # variance of the missing value imputations\n",
    "    variance = np.sum((1-O)*(np.dot(Y,X.T) - np.sum((1-O)*(np.dot(Y,X.T)))/np.sum(1-O))**2)/np.sum(1-O)\n",
    "    variances.append(variance)\n",
    "variances"
   ],
   "id": "f57bb38440b68934",
   "outputs": [
    {
     "data": {
      "text/plain": [
       "[np.float64(5.882683675525218),\n",
       " np.float64(3.3877693264990074),\n",
       " np.float64(1.3200977944734995)]"
      ]
     },
     "execution_count": 19,
     "metadata": {},
     "output_type": "execute_result"
    }
   ],
   "execution_count": 19
  },
  {
   "metadata": {
    "ExecuteTime": {
     "end_time": "2025-01-09T10:26:18.437032Z",
     "start_time": "2025-01-09T10:25:27.140009Z"
    }
   },
   "cell_type": "code",
   "source": [
    "# Count the number of missing value imputations outside the original range of ratings for different values of lambda\n",
    "counts = []\n",
    "for lmbda in lambdas:\n",
    "    X,Y = matrix_completion(D,lmbda=lmbda)\n",
    "    O = np.where(D!=0,1,0)\n",
    "    # number of missing value imputations outside the original range of ratings\n",
    "    count = np.sum((1-O)*(np.dot(Y,X.T) < 0.5) + (1-O)*(np.dot(Y,X.T) > 5))\n",
    "    counts.append(count)\n",
    "counts"
   ],
   "id": "b4c4d311b5cf636b",
   "outputs": [
    {
     "data": {
      "text/plain": [
       "[np.int64(13788), np.int64(10124), np.int64(3861)]"
      ]
     },
     "execution_count": 20,
     "metadata": {},
     "output_type": "execute_result"
    }
   ],
   "execution_count": 20
  },
  {
   "metadata": {
    "ExecuteTime": {
     "end_time": "2025-01-09T10:27:11.360024Z",
     "start_time": "2025-01-09T10:26:18.464816Z"
    }
   },
   "cell_type": "code",
   "source": [
    "# Compute the average squared approximation error on the observed entries for different values of lambda\n",
    "lambdas = [0.01,0.1,0.5]\n",
    "errors = []\n",
    "for lmbda in lambdas:\n",
    "    X,Y = matrix_completion(D,lmbda=lmbda)\n",
    "    O = np.where(D!=0,1,0)\n",
    "    # approximation error\n",
    "    error = np.linalg.norm((D - O*(np.dot(Y,X.T))))**2\n",
    "    errors.append(error)\n",
    "errors"
   ],
   "id": "8c5bd8c62ed45e8d",
   "outputs": [
    {
     "data": {
      "text/plain": [
       "[np.float64(1815.1620853673728),\n",
       " np.float64(1855.2966564625563),\n",
       " np.float64(2032.037960977231)]"
      ]
     },
     "execution_count": 21,
     "metadata": {},
     "output_type": "execute_result"
    }
   ],
   "execution_count": 21
  }
 ],
 "metadata": {
  "kernelspec": {
   "display_name": "Python 3",
   "language": "python",
   "name": "python3"
  },
  "language_info": {
   "codemirror_mode": {
    "name": "ipython",
    "version": 2
   },
   "file_extension": ".py",
   "mimetype": "text/x-python",
   "name": "python",
   "nbconvert_exporter": "python",
   "pygments_lexer": "ipython2",
   "version": "2.7.6"
  }
 },
 "nbformat": 4,
 "nbformat_minor": 5
}
